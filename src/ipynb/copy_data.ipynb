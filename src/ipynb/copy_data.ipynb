{
 "cells": [
  {
   "cell_type": "code",
   "execution_count": 16,
   "id": "023353a7-ee1d-41b5-8fef-d05e02434a6b",
   "metadata": {},
   "outputs": [
    {
     "name": "stdout",
     "output_type": "stream",
     "text": [
      "Filtered dataset copy completed!\n"
     ]
    }
   ],
   "source": [
    "import os\n",
    "import shutil\n",
    "from PIL import Image\n",
    "\n",
    "def is_valid_image(file_path):\n",
    "    try:\n",
    "        img = Image.open(file_path)\n",
    "        img.verify()\n",
    "        return True\n",
    "    except Exception:\n",
    "        return False\n",
    "\n",
    "def copy_filtered_dataset(dataset_dir, output_dir, keyword=\"leaf\"):\n",
    "    classes = os.listdir(dataset_dir)\n",
    "    for cls in classes:\n",
    "        if keyword.lower() not in cls.lower():\n",
    "            continue  # Skip classes that don't match keyword\n",
    "\n",
    "        cls_path = os.path.join(dataset_dir, cls)\n",
    "        if not os.path.isdir(cls_path):\n",
    "            continue\n",
    "\n",
    "        valid_exts = ('.jpg', '.jpeg', '.png', '.bmp', '.gif')\n",
    "\n",
    "        images = [\n",
    "            f for f in os.listdir(cls_path)\n",
    "            if os.path.isfile(os.path.join(cls_path, f)) and f.lower().endswith(valid_exts)\n",
    "        ]\n",
    "\n",
    "        dest_dir = os.path.join(output_dir, cls)\n",
    "        os.makedirs(dest_dir, exist_ok=True)\n",
    "\n",
    "        for img in images:\n",
    "            src_path = os.path.join(cls_path, img)\n",
    "            if is_valid_image(src_path):\n",
    "                shutil.copy(src_path, os.path.join(dest_dir, img))\n",
    "\n",
    "    print(\"Filtered dataset copy completed!\")\n",
    "\n",
    "# Example usage\n",
    "train_path = r\"/home/teaching/Atmega_MIC/data/Crop Diseases/PlantPAD/PlantDiseased/train\"\n",
    "save_path = r\"/home/teaching/Atmega_MIC/DP Students/Abhay/cropwise_data/wheat\"\n",
    "copy_filtered_dataset(train_path, save_path, keyword=\"wheat\")\n"
   ]
  },
  {
   "cell_type": "code",
   "execution_count": null,
   "id": "26f000d0-0181-4bb9-8826-767626553b79",
   "metadata": {},
   "outputs": [],
   "source": []
  }
 ],
 "metadata": {
  "kernelspec": {
   "display_name": "Python 3 (ipykernel)",
   "language": "python",
   "name": "python3"
  },
  "language_info": {
   "codemirror_mode": {
    "name": "ipython",
    "version": 3
   },
   "file_extension": ".py",
   "mimetype": "text/x-python",
   "name": "python",
   "nbconvert_exporter": "python",
   "pygments_lexer": "ipython3",
   "version": "3.10.12"
  }
 },
 "nbformat": 4,
 "nbformat_minor": 5
}
