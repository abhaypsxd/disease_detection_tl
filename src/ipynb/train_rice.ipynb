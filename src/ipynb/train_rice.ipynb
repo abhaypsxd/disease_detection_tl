{
 "cells": [
  {
   "cell_type": "code",
   "execution_count": 2,
   "id": "cbfcc281-58fa-4c4d-a219-9324157a0061",
   "metadata": {},
   "outputs": [],
   "source": [
    "import tensorflow as tf"
   ]
  },
  {
   "cell_type": "code",
   "execution_count": 23,
   "id": "aa9fb381-ba8f-4c02-9bd1-0677349282c5",
   "metadata": {},
   "outputs": [
    {
     "name": "stdout",
     "output_type": "stream",
     "text": [
      "Found 4155 files belonging to 5 classes.\n"
     ]
    }
   ],
   "source": [
    "train=r\"/home/teaching/Atmega_MIC/DP Students/Abhay/cropwise_data/rice\"\n",
    "training_set = tf.keras.utils.image_dataset_from_directory(\n",
    "    train,\n",
    "    labels=\"inferred\",\n",
    "    label_mode=\"categorical\",\n",
    "    class_names=None,\n",
    "    color_mode=\"rgb\",\n",
    "    batch_size=16,\n",
    "    image_size=(224, 224),\n",
    "    shuffle=True,\n",
    "    seed=None,\n",
    "    validation_split=None,\n",
    "    subset=None,\n",
    "    interpolation=\"bilinear\",\n",
    "    follow_links=False,\n",
    "    crop_to_aspect_ratio=False,\n",
    ")"
   ]
  },
  {
   "cell_type": "code",
   "execution_count": 24,
   "id": "e02235a2-712d-481f-805a-eca101beb1b0",
   "metadata": {},
   "outputs": [
    {
     "data": {
      "text/plain": [
       "['rice_brown_spot',\n",
       " 'rice_healthy',\n",
       " 'rice_hispa',\n",
       " 'rice_leaf_blast',\n",
       " 'rice_neck_blast']"
      ]
     },
     "execution_count": 24,
     "metadata": {},
     "output_type": "execute_result"
    }
   ],
   "source": [
    "class_name = training_set.class_names\n",
    "class_name"
   ]
  },
  {
   "cell_type": "code",
   "execution_count": 25,
   "id": "68d65d3f-5505-4c1e-8efc-64458ccbb19a",
   "metadata": {},
   "outputs": [
    {
     "name": "stdout",
     "output_type": "stream",
     "text": [
      "260\n",
      "208\n",
      "52\n"
     ]
    }
   ],
   "source": [
    "total_batches = tf.data.experimental.cardinality(training_set).numpy()\n",
    "train_size = int(0.8 * total_batches)\n",
    "val_size = total_batches - train_size\n",
    "train_dataset = training_set.take(train_size)\n",
    "val_dataset = training_set.skip(train_size)\n",
    "print(len(training_set))\n",
    "print(len(train_dataset))\n",
    "print(len(val_dataset))"
   ]
  },
  {
   "cell_type": "code",
   "execution_count": 26,
   "id": "0dc303f0-9399-4d4c-b4c0-af4cb9865778",
   "metadata": {},
   "outputs": [],
   "source": [
    "from tensorflow.keras.applications import MobileNetV2\n",
    "from tensorflow.keras.models import Sequential\n",
    "from tensorflow.keras.layers import Dense, GlobalAveragePooling2D, Dropout\n",
    "from tensorflow.keras.optimizers import Adam\n",
    "\n",
    "base_model = MobileNetV2(input_shape=(224, 224, 3), include_top=False, weights='imagenet')\n",
    "base_model.trainable = False  # Freeze base\n",
    "\n",
    "model = Sequential([\n",
    "    base_model,\n",
    "    GlobalAveragePooling2D(),\n",
    "    Dense(128, activation='relu'),\n",
    "    Dense(5, activation='softmax')  # 6 classes\n",
    "])\n",
    "\n",
    "model.compile(optimizer=Adam(learning_rate=1e-3),\n",
    "              loss='categorical_crossentropy',\n",
    "              metrics=['categorical_accuracy'])\n"
   ]
  },
  {
   "cell_type": "code",
   "execution_count": 27,
   "id": "e708a3b9-c136-476b-a926-0b50ff2b519a",
   "metadata": {},
   "outputs": [],
   "source": [
    "from tensorflow.keras.layers import Rescaling, RandomFlip, RandomRotation\n",
    "from tensorflow.keras import Sequential\n",
    "\n",
    "preprocessing = Sequential([\n",
    "    Rescaling(1./255),\n",
    "    RandomFlip(\"horizontal\"),\n",
    "    RandomRotation(0.1)\n",
    "])\n",
    "\n",
    "train_ds = train_dataset.map(lambda x, y: (preprocessing(x), y))\n",
    "val_ds = val_dataset.map(lambda x, y: (x / 255.0, y))\n"
   ]
  },
  {
   "cell_type": "code",
   "execution_count": 28,
   "id": "406757a9-4810-47be-941c-bbef1e397e65",
   "metadata": {},
   "outputs": [
    {
     "name": "stdout",
     "output_type": "stream",
     "text": [
      "Epoch 1/10\n",
      "208/208 [==============================] - 28s 126ms/step - loss: 0.8749 - categorical_accuracy: 0.6391 - val_loss: 0.8472 - val_categorical_accuracy: 0.6626\n",
      "Epoch 2/10\n",
      "208/208 [==============================] - 26s 124ms/step - loss: 0.7245 - categorical_accuracy: 0.6968 - val_loss: 0.7884 - val_categorical_accuracy: 0.6868\n",
      "Epoch 3/10\n",
      "208/208 [==============================] - 26s 123ms/step - loss: 0.6438 - categorical_accuracy: 0.7344 - val_loss: 0.8478 - val_categorical_accuracy: 0.6747\n",
      "Epoch 4/10\n",
      "208/208 [==============================] - 26s 124ms/step - loss: 0.5988 - categorical_accuracy: 0.7557 - val_loss: 0.8260 - val_categorical_accuracy: 0.6965\n",
      "Epoch 5/10\n",
      "208/208 [==============================] - 26s 125ms/step - loss: 0.5510 - categorical_accuracy: 0.7767 - val_loss: 0.7543 - val_categorical_accuracy: 0.7170\n",
      "Epoch 6/10\n",
      "208/208 [==============================] - 26s 126ms/step - loss: 0.5192 - categorical_accuracy: 0.7846 - val_loss: 0.7429 - val_categorical_accuracy: 0.7183\n",
      "Epoch 7/10\n",
      "208/208 [==============================] - 26s 126ms/step - loss: 0.4784 - categorical_accuracy: 0.8119 - val_loss: 0.7603 - val_categorical_accuracy: 0.7158\n",
      "Epoch 8/10\n",
      "208/208 [==============================] - 26s 125ms/step - loss: 0.4402 - categorical_accuracy: 0.8260 - val_loss: 0.7742 - val_categorical_accuracy: 0.7195\n",
      "Epoch 9/10\n",
      "208/208 [==============================] - 26s 126ms/step - loss: 0.4129 - categorical_accuracy: 0.8350 - val_loss: 0.8161 - val_categorical_accuracy: 0.7098\n"
     ]
    }
   ],
   "source": [
    "from tensorflow.keras.callbacks import EarlyStopping\n",
    "\n",
    "early_stop = EarlyStopping(patience=3, restore_best_weights=True)\n",
    "history = model.fit(train_ds,\n",
    "                    validation_data=val_ds,\n",
    "                    epochs=10,\n",
    "                    callbacks=[early_stop])"
   ]
  },
  {
   "cell_type": "code",
   "execution_count": 29,
   "id": "2a5c0785-f5f6-4447-b974-d75b00f8cd70",
   "metadata": {},
   "outputs": [],
   "source": [
    "base_model.trainable = True\n",
    "for layer in base_model.layers[:100]:\n",
    "    layer.trainable = False"
   ]
  },
  {
   "cell_type": "code",
   "execution_count": 30,
   "id": "4295e879-5c80-465e-938a-c1808157d89c",
   "metadata": {},
   "outputs": [],
   "source": [
    "model.compile(\n",
    "    optimizer=Adam(1e-5),  # lower LR for fine-tuning\n",
    "    loss='categorical_crossentropy',\n",
    "    metrics=['categorical_accuracy']\n",
    ")"
   ]
  },
  {
   "cell_type": "code",
   "execution_count": 31,
   "id": "56d79448-a031-4643-9837-0bdfd6907020",
   "metadata": {},
   "outputs": [
    {
     "name": "stdout",
     "output_type": "stream",
     "text": [
      "Epoch 1/5\n",
      "208/208 [==============================] - 37s 168ms/step - loss: 1.9399 - categorical_accuracy: 0.5670 - val_loss: 0.8536 - val_categorical_accuracy: 0.6771\n",
      "Epoch 2/5\n",
      "208/208 [==============================] - 35s 166ms/step - loss: 0.8137 - categorical_accuracy: 0.6776 - val_loss: 0.8211 - val_categorical_accuracy: 0.6747\n",
      "Epoch 3/5\n",
      "208/208 [==============================] - 35s 167ms/step - loss: 0.7325 - categorical_accuracy: 0.6962 - val_loss: 0.7903 - val_categorical_accuracy: 0.6880\n",
      "Epoch 4/5\n",
      "208/208 [==============================] - 35s 167ms/step - loss: 0.6407 - categorical_accuracy: 0.7398 - val_loss: 0.8015 - val_categorical_accuracy: 0.6856\n",
      "Epoch 5/5\n",
      "208/208 [==============================] - 35s 168ms/step - loss: 0.5824 - categorical_accuracy: 0.7671 - val_loss: 0.8085 - val_categorical_accuracy: 0.6796\n"
     ]
    },
    {
     "data": {
      "text/plain": [
       "<keras.callbacks.History at 0x7644ffda1bd0>"
      ]
     },
     "execution_count": 31,
     "metadata": {},
     "output_type": "execute_result"
    }
   ],
   "source": [
    "model.fit(\n",
    "    train_ds,\n",
    "    validation_data=val_ds,\n",
    "    epochs=5,\n",
    "    callbacks=[early_stop]\n",
    ")"
   ]
  },
  {
   "cell_type": "code",
   "execution_count": 32,
   "id": "9b25c978-001d-4ebb-a7f3-3ff335cb8ea8",
   "metadata": {},
   "outputs": [
    {
     "name": "stdout",
     "output_type": "stream",
     "text": [
      "208/208 [==============================] - 16s 74ms/step - loss: 0.5404 - categorical_accuracy: 0.7849\n"
     ]
    }
   ],
   "source": [
    "train_loss,train_acc = model.evaluate(train_ds)"
   ]
  },
  {
   "cell_type": "code",
   "execution_count": 35,
   "id": "1c6d2de6-4521-4dbd-a3bd-4fc5c1a508f5",
   "metadata": {},
   "outputs": [
    {
     "data": {
      "image/png": "[encoded data removed]",
      "text/plain": [
       "<Figure size 640x480 with 1 Axes>"
      ]
     },
     "metadata": {},
     "output_type": "display_data"
    }
   ],
   "source": [
    "import matplotlib.pyplot as plt\n",
    "import pandas as pd\n",
    "import seaborn as sns\n",
    "epochs=[i for i in range(1,10)]\n",
    "plt.plot(epochs,history.history['categorical_accuracy'],color='orange',label='Training Accuracy')\n",
    "plt.plot(epochs,history.history['val_categorical_accuracy'],color='blue',label='Validation Accuracy')\n",
    "plt.xlabel('No. of Epochs')\n",
    "plt.ylabel('Accuracy')\n",
    "plt.title('Visualization of training, and validation accuracy')\n",
    "plt.legend()\n",
    "plt.show()\n"
   ]
  },
  {
   "cell_type": "code",
   "execution_count": 36,
   "id": "02abd8cc-c416-4827-81ed-e882981ed6ac",
   "metadata": {},
   "outputs": [],
   "source": [
    "model.save(\"trained_models/trained_model_rice.keras\")"
   ]
  },
  {
   "cell_type": "code",
   "execution_count": null,
   "id": "4eb16b81-ce4b-463b-b2aa-72f77f0e713e",
   "metadata": {},
   "outputs": [],
   "source": []
  }
 ],
 "metadata": {
  "kernelspec": {
   "display_name": "Python 3 (ipykernel)",
   "language": "python",
   "name": "python3"
  },
  "language_info": {
   "codemirror_mode": {
    "name": "ipython",
    "version": 3
   },
   "file_extension": ".py",
   "mimetype": "text/x-python",
   "name": "python",
   "nbconvert_exporter": "python",
   "pygments_lexer": "ipython3",
   "version": "3.10.12"
  }
 },
 "nbformat": 4,
 "nbformat_minor": 5
}
