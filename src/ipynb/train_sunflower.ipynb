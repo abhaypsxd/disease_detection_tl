{
 "cells": [
  {
   "cell_type": "code",
   "execution_count": 2,
   "id": "8af6903b-eb77-4879-b4a3-619cc7f3714c",
   "metadata": {},
   "outputs": [],
   "source": [
    "import tensorflow as tf"
   ]
  },
  {
   "cell_type": "code",
   "execution_count": 7,
   "id": "f42b902f-2ff6-48f6-b1a4-bf96d2631b26",
   "metadata": {},
   "outputs": [
    {
     "name": "stdout",
     "output_type": "stream",
     "text": [
      "Found 374 files belonging to 4 classes.\n"
     ]
    }
   ],
   "source": [
    "train=r\"/home/teaching/Atmega_MIC/DP Students/Abhay/cropwise_data/sunflower\"\n",
    "training_set = tf.keras.utils.image_dataset_from_directory(\n",
    "    train,\n",
    "    labels=\"inferred\",\n",
    "    label_mode=\"categorical\",\n",
    "    class_names=None,\n",
    "    color_mode=\"rgb\",\n",
    "    batch_size=16,\n",
    "    image_size=(224, 224),\n",
    "    shuffle=True,\n",
    "    seed=None,\n",
    "    validation_split=None,\n",
    "    subset=None,\n",
    "    interpolation=\"bilinear\",\n",
    "    follow_links=False,\n",
    "    crop_to_aspect_ratio=False,\n",
    ")"
   ]
  },
  {
   "cell_type": "code",
   "execution_count": 8,
   "id": "5e5fd9bd-94cf-46a2-a56a-73174a868bbf",
   "metadata": {},
   "outputs": [
    {
     "data": {
      "text/plain": [
       "['sunflower_downy_mildew',\n",
       " 'sunflower_fresh_leaf',\n",
       " 'sunflower_gray_mold',\n",
       " 'sunflower_leaf_scars']"
      ]
     },
     "execution_count": 8,
     "metadata": {},
     "output_type": "execute_result"
    }
   ],
   "source": [
    "classes = training_set.class_names\n",
    "classes"
   ]
  },
  {
   "cell_type": "code",
   "execution_count": 9,
   "id": "956bfa18-6246-4d96-ac1d-46b5225a1995",
   "metadata": {},
   "outputs": [
    {
     "name": "stdout",
     "output_type": "stream",
     "text": [
      "24\n",
      "19\n",
      "5\n"
     ]
    }
   ],
   "source": [
    "total_batches = tf.data.experimental.cardinality(training_set).numpy()\n",
    "train_size = int(0.8 * total_batches)\n",
    "val_size = total_batches - train_size\n",
    "train_dataset = training_set.take(train_size)\n",
    "val_dataset = training_set.skip(train_size)\n",
    "print(len(training_set))\n",
    "print(len(train_dataset))\n",
    "print(len(val_dataset))"
   ]
  },
  {
   "cell_type": "code",
   "execution_count": 11,
   "id": "e2093510-bacf-4add-a4ef-1ef0b8a70cfc",
   "metadata": {},
   "outputs": [],
   "source": [
    "from tensorflow.keras.applications import MobileNetV2\n",
    "from tensorflow.keras.models import Sequential\n",
    "from tensorflow.keras.layers import Dense, GlobalAveragePooling2D\n",
    "from tensorflow.keras.optimizers import Adam\n",
    "from tensorflow.keras import callbacks\n",
    "\n",
    "base_model = MobileNetV2(input_shape=(224, 224, 3), include_top=False, weights='imagenet')\n",
    "base_model.trainable = False  # Freeze base\n",
    "\n",
    "model = Sequential([\n",
    "    base_model,\n",
    "    GlobalAveragePooling2D(),\n",
    "    Dense(128, activation='relu'),\n",
    "    Dense(4, activation='softmax')  # 6 classes\n",
    "])\n",
    "\n",
    "model.compile(optimizer=Adam(learning_rate=0.001),\n",
    "              loss='categorical_crossentropy',\n",
    "              metrics=['categorical_accuracy'])\n"
   ]
  },
  {
   "cell_type": "code",
   "execution_count": 12,
   "id": "e175d39e-22e9-4b2c-8566-7de1a046dff8",
   "metadata": {},
   "outputs": [],
   "source": [
    "from tensorflow.keras.layers import Rescaling, RandomFlip, RandomRotation\n",
    "from tensorflow.keras import Sequential\n",
    "\n",
    "preprocessing = Sequential([\n",
    "    Rescaling(1./255),\n",
    "    RandomFlip(\"horizontal\"),\n",
    "    RandomRotation(0.1)\n",
    "])\n",
    "\n",
    "train_ds = train_dataset.map(lambda x, y: (preprocessing(x), y))\n",
    "val_ds = val_dataset.map(lambda x, y: (x / 255.0, y))\n"
   ]
  },
  {
   "cell_type": "code",
   "execution_count": 13,
   "id": "573e639b-43d3-4fd7-a4ef-f2978dd995a2",
   "metadata": {},
   "outputs": [],
   "source": [
    "early_stop = callbacks.EarlyStopping(patience=3, restore_best_weights=True)\n",
    "reduce_lr = callbacks.ReduceLROnPlateau(factor=0.4, patience=3, min_lr=1e-6)"
   ]
  },
  {
   "cell_type": "code",
   "execution_count": 14,
   "id": "6896852b-d28a-499d-a2f6-f5ab2ad2da96",
   "metadata": {},
   "outputs": [
    {
     "name": "stdout",
     "output_type": "stream",
     "text": [
      "Epoch 1/10\n",
      "19/19 [==============================] - 8s 272ms/step - loss: 0.8055 - categorical_accuracy: 0.6349 - val_loss: 0.4085 - val_categorical_accuracy: 0.8286 - lr: 0.0010\n",
      "Epoch 2/10\n",
      "19/19 [==============================] - 5s 240ms/step - loss: 0.2634 - categorical_accuracy: 0.9112 - val_loss: 0.2561 - val_categorical_accuracy: 0.9000 - lr: 0.0010\n",
      "Epoch 3/10\n",
      "19/19 [==============================] - 5s 239ms/step - loss: 0.1733 - categorical_accuracy: 0.9474 - val_loss: 0.1751 - val_categorical_accuracy: 0.9286 - lr: 0.0010\n",
      "Epoch 4/10\n",
      "19/19 [==============================] - 5s 236ms/step - loss: 0.1337 - categorical_accuracy: 0.9704 - val_loss: 0.1119 - val_categorical_accuracy: 0.9857 - lr: 0.0010\n",
      "Epoch 5/10\n",
      "19/19 [==============================] - 5s 236ms/step - loss: 0.1165 - categorical_accuracy: 0.9671 - val_loss: 0.1384 - val_categorical_accuracy: 0.9714 - lr: 0.0010\n",
      "Epoch 6/10\n",
      "19/19 [==============================] - 5s 234ms/step - loss: 0.0702 - categorical_accuracy: 0.9836 - val_loss: 0.1588 - val_categorical_accuracy: 0.9571 - lr: 0.0010\n",
      "Epoch 7/10\n",
      "19/19 [==============================] - 5s 234ms/step - loss: 0.0557 - categorical_accuracy: 0.9967 - val_loss: 0.0987 - val_categorical_accuracy: 0.9714 - lr: 0.0010\n",
      "Epoch 8/10\n",
      "19/19 [==============================] - 5s 234ms/step - loss: 0.0537 - categorical_accuracy: 0.9868 - val_loss: 0.0282 - val_categorical_accuracy: 1.0000 - lr: 0.0010\n",
      "Epoch 9/10\n",
      "19/19 [==============================] - 5s 222ms/step - loss: 0.0431 - categorical_accuracy: 0.9934 - val_loss: 0.0448 - val_categorical_accuracy: 1.0000 - lr: 0.0010\n",
      "Epoch 10/10\n",
      "19/19 [==============================] - 5s 226ms/step - loss: 0.0304 - categorical_accuracy: 0.9967 - val_loss: 0.0372 - val_categorical_accuracy: 1.0000 - lr: 0.0010\n"
     ]
    }
   ],
   "source": [
    "history = model.fit(train_ds,\n",
    "                    validation_data=val_ds,\n",
    "                    epochs=10,\n",
    "                    callbacks=[early_stop, reduce_lr])"
   ]
  },
  {
   "cell_type": "code",
   "execution_count": 15,
   "id": "20c18d15-c84e-4a32-a6e5-fee5d6b0707b",
   "metadata": {},
   "outputs": [
    {
     "name": "stdout",
     "output_type": "stream",
     "text": [
      "19/19 [==============================] - 3s 100ms/step - loss: 0.0320 - categorical_accuracy: 0.9967\n"
     ]
    }
   ],
   "source": [
    "train_loss,train_acc = model.evaluate(train_ds)"
   ]
  },
  {
   "cell_type": "code",
   "execution_count": 16,
   "id": "c0c49138-b2b7-4ad7-a8e1-2b0d5239dc45",
   "metadata": {},
   "outputs": [
    {
     "name": "stdout",
     "output_type": "stream",
     "text": [
      "5/5 [==============================] - 2s 59ms/step - loss: 0.0479 - categorical_accuracy: 1.0000\n"
     ]
    }
   ],
   "source": [
    "val_loss,val__acc = model.evaluate(val_ds)"
   ]
  },
  {
   "cell_type": "code",
   "execution_count": 17,
   "id": "da148c4f-a416-4fca-9133-a6917345a7b9",
   "metadata": {},
   "outputs": [],
   "source": [
    "model.save(\"trained_models/trained_model_sunflower.keras\")"
   ]
  },
  {
   "cell_type": "code",
   "execution_count": 18,
   "id": "859514e7-fa85-46ec-b2cb-5dfc8b13cd9b",
   "metadata": {},
   "outputs": [
    {
     "data": {
      "image/png": "[encoded data removed]",
      "text/plain": [
       "<Figure size 640x480 with 1 Axes>"
      ]
     },
     "metadata": {},
     "output_type": "display_data"
    }
   ],
   "source": [
    "import matplotlib.pyplot as plt\n",
    "import pandas as pd\n",
    "import seaborn as sns\n",
    "\n",
    "epochs=[i for i in range(1,11)]\n",
    "plt.plot(epochs,history.history['categorical_accuracy'],color='orange',label='Training Accuracy')\n",
    "plt.plot(epochs,history.history['val_categorical_accuracy'],color='blue',label='Validation Accuracy')\n",
    "plt.xlabel('No. of Epochs')\n",
    "plt.ylabel('Accuracy')\n",
    "plt.title('Visualization of training, and validation accuracy')\n",
    "plt.legend()\n",
    "plt.show()\n"
   ]
  },
  {
   "cell_type": "code",
   "execution_count": null,
   "id": "7534825b-7924-498c-8dfc-13d174e68e02",
   "metadata": {},
   "outputs": [],
   "source": []
  }
 ],
 "metadata": {
  "kernelspec": {
   "display_name": "Python 3 (ipykernel)",
   "language": "python",
   "name": "python3"
  },
  "language_info": {
   "codemirror_mode": {
    "name": "ipython",
    "version": 3
   },
   "file_extension": ".py",
   "mimetype": "text/x-python",
   "name": "python",
   "nbconvert_exporter": "python",
   "pygments_lexer": "ipython3",
   "version": "3.10.12"
  }
 },
 "nbformat": 4,
 "nbformat_minor": 5
}
