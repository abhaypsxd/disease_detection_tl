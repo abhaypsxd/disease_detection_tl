{
 "cells": [
  {
   "cell_type": "code",
   "execution_count": 2,
   "id": "9cc01914-f970-47ed-a24b-e555b0683502",
   "metadata": {},
   "outputs": [],
   "source": [
    "import tensorflow as tf"
   ]
  },
  {
   "cell_type": "code",
   "execution_count": 8,
   "id": "bcdee13b-b8a3-4ed1-8b6d-a8dc067344d3",
   "metadata": {},
   "outputs": [
    {
     "name": "stdout",
     "output_type": "stream",
     "text": [
      "Found 25075 files belonging to 4 classes.\n"
     ]
    }
   ],
   "source": [
    "train=r\"/home/teaching/Atmega_MIC/DP Students/Abhay/cropwise_data/grape\"\n",
    "training_set = tf.keras.utils.image_dataset_from_directory(\n",
    "    train,\n",
    "    labels=\"inferred\",\n",
    "    label_mode=\"categorical\",\n",
    "    class_names=None,\n",
    "    color_mode=\"rgb\",\n",
    "    batch_size=64,\n",
    "    image_size=(224, 224),\n",
    "    shuffle=True,\n",
    "    seed=None,\n",
    "    validation_split=None,\n",
    "    subset=None,\n",
    "    interpolation=\"bilinear\",\n",
    "    follow_links=False,\n",
    "    crop_to_aspect_ratio=False,\n",
    ")"
   ]
  },
  {
   "cell_type": "code",
   "execution_count": 9,
   "id": "31e75f71-b463-4a22-9774-19d00b866d54",
   "metadata": {},
   "outputs": [
    {
     "data": {
      "text/plain": [
       "['grape_black_measles',\n",
       " 'grape_black_rot',\n",
       " 'grape_healthy',\n",
       " 'grape_leaf_blight']"
      ]
     },
     "execution_count": 9,
     "metadata": {},
     "output_type": "execute_result"
    }
   ],
   "source": [
    "classes = training_set.class_names\n",
    "classes"
   ]
  },
  {
   "cell_type": "code",
   "execution_count": 10,
   "id": "399e273c-4bd2-4936-8d25-0f3a31908551",
   "metadata": {},
   "outputs": [],
   "source": [
    "total_batches = tf.data.experimental.cardinality(training_set).numpy()\n",
    "train_size = int(0.8 * total_batches)\n",
    "val_size = total_batches - train_size"
   ]
  },
  {
   "cell_type": "code",
   "execution_count": 11,
   "id": "bc8aa837-87a4-4bde-8a01-71fe4ad458fb",
   "metadata": {},
   "outputs": [
    {
     "name": "stdout",
     "output_type": "stream",
     "text": [
      "392\n",
      "313\n",
      "79\n"
     ]
    }
   ],
   "source": [
    "train_dataset = training_set.take(train_size)\n",
    "val_dataset = training_set.skip(train_size)\n",
    "print(len(training_set))\n",
    "print(len(train_dataset))\n",
    "print(len(val_dataset))"
   ]
  },
  {
   "cell_type": "code",
   "execution_count": 18,
   "id": "571b41bf-1947-4874-a624-2eda069d9ee2",
   "metadata": {},
   "outputs": [],
   "source": [
    "from tensorflow.keras.applications import MobileNetV2\n",
    "from tensorflow.keras.models import Sequential\n",
    "from tensorflow.keras.layers import Dense, GlobalAveragePooling2D\n",
    "from tensorflow.keras.optimizers import Adam\n",
    "from tensorflow.keras import callbacks\n",
    "\n",
    "base_model = MobileNetV2(input_shape=(224, 224, 3), include_top=False, weights='imagenet')\n",
    "base_model.trainable = False  # Freeze base\n",
    "\n",
    "model = Sequential([\n",
    "    base_model,\n",
    "    GlobalAveragePooling2D(),\n",
    "    Dense(128, activation='relu'),\n",
    "    Dense(4, activation='softmax')  # 6 classes\n",
    "])\n",
    "\n",
    "model.compile(optimizer=Adam(learning_rate=1e-4),\n",
    "              loss='categorical_crossentropy',\n",
    "              metrics=['categorical_accuracy'])\n"
   ]
  },
  {
   "cell_type": "code",
   "execution_count": 19,
   "id": "fb02023c-3c2d-44dc-8120-d1463b06bc0c",
   "metadata": {},
   "outputs": [],
   "source": [
    "from tensorflow.keras.layers import Rescaling, RandomFlip, RandomRotation\n",
    "from tensorflow.keras import Sequential\n",
    "\n",
    "preprocessing = Sequential([\n",
    "    Rescaling(1./255),\n",
    "    RandomFlip(\"horizontal\"),\n",
    "    RandomRotation(0.1)\n",
    "])\n",
    "\n",
    "train_ds = train_dataset.map(lambda x, y: (preprocessing(x), y))\n",
    "val_ds = val_dataset.map(lambda x, y: (x / 255.0, y))\n"
   ]
  },
  {
   "cell_type": "code",
   "execution_count": 20,
   "id": "1472fff9-96e8-44cf-a934-7dba038297dc",
   "metadata": {},
   "outputs": [],
   "source": [
    "early_stop = callbacks.EarlyStopping(patience=3, restore_best_weights=True)\n",
    "reduce_lr = callbacks.ReduceLROnPlateau(factor=0.4, patience=3, min_lr=1e-6)"
   ]
  },
  {
   "cell_type": "code",
   "execution_count": 21,
   "id": "2de63728-6217-4590-82b2-ab76cea10055",
   "metadata": {},
   "outputs": [
    {
     "name": "stdout",
     "output_type": "stream",
     "text": [
      "Epoch 1/15\n",
      "254/313 [=======================>......] - ETA: 22s - loss: 0.3297 - categorical_accuracy: 0.8953"
     ]
    },
    {
     "name": "stderr",
     "output_type": "stream",
     "text": [
      "Corrupt JPEG data: premature end of data segment\n"
     ]
    },
    {
     "name": "stdout",
     "output_type": "stream",
     "text": [
      "313/313 [==============================] - ETA: 0s - loss: 0.2926 - categorical_accuracy: 0.9073"
     ]
    },
    {
     "name": "stderr",
     "output_type": "stream",
     "text": [
      "Corrupt JPEG data: premature end of data segment\n"
     ]
    },
    {
     "name": "stdout",
     "output_type": "stream",
     "text": [
      "313/313 [==============================] - 152s 480ms/step - loss: 0.2926 - categorical_accuracy: 0.9073 - val_loss: 0.1307 - val_categorical_accuracy: 0.9536 - lr: 1.0000e-04\n",
      "Epoch 2/15\n",
      "252/313 [=======================>......] - ETA: 22s - loss: 0.1080 - categorical_accuracy: 0.9639"
     ]
    },
    {
     "name": "stderr",
     "output_type": "stream",
     "text": [
      "Corrupt JPEG data: premature end of data segment\n"
     ]
    },
    {
     "name": "stdout",
     "output_type": "stream",
     "text": [
      "313/313 [==============================] - ETA: 0s - loss: 0.1041 - categorical_accuracy: 0.9655"
     ]
    },
    {
     "name": "stderr",
     "output_type": "stream",
     "text": [
      "Corrupt JPEG data: premature end of data segment\n"
     ]
    },
    {
     "name": "stdout",
     "output_type": "stream",
     "text": [
      "313/313 [==============================] - 147s 469ms/step - loss: 0.1041 - categorical_accuracy: 0.9655 - val_loss: 0.0939 - val_categorical_accuracy: 0.9661 - lr: 1.0000e-04\n",
      "Epoch 3/15\n",
      "252/313 [=======================>......] - ETA: 22s - loss: 0.0803 - categorical_accuracy: 0.9730"
     ]
    },
    {
     "name": "stderr",
     "output_type": "stream",
     "text": [
      "Corrupt JPEG data: premature end of data segment\n"
     ]
    },
    {
     "name": "stdout",
     "output_type": "stream",
     "text": [
      "313/313 [==============================] - ETA: 0s - loss: 0.0785 - categorical_accuracy: 0.9740"
     ]
    },
    {
     "name": "stderr",
     "output_type": "stream",
     "text": [
      "Corrupt JPEG data: premature end of data segment\n"
     ]
    },
    {
     "name": "stdout",
     "output_type": "stream",
     "text": [
      "313/313 [==============================] - 150s 479ms/step - loss: 0.0785 - categorical_accuracy: 0.9740 - val_loss: 0.0799 - val_categorical_accuracy: 0.9714 - lr: 1.0000e-04\n",
      "Epoch 4/15\n",
      "252/313 [=======================>......] - ETA: 22s - loss: 0.0665 - categorical_accuracy: 0.9774"
     ]
    },
    {
     "name": "stderr",
     "output_type": "stream",
     "text": [
      "Corrupt JPEG data: premature end of data segment\n"
     ]
    },
    {
     "name": "stdout",
     "output_type": "stream",
     "text": [
      "313/313 [==============================] - ETA: 0s - loss: 0.0652 - categorical_accuracy: 0.9782"
     ]
    },
    {
     "name": "stderr",
     "output_type": "stream",
     "text": [
      "Corrupt JPEG data: premature end of data segment\n"
     ]
    },
    {
     "name": "stdout",
     "output_type": "stream",
     "text": [
      "313/313 [==============================] - 150s 479ms/step - loss: 0.0652 - categorical_accuracy: 0.9782 - val_loss: 0.0703 - val_categorical_accuracy: 0.9738 - lr: 1.0000e-04\n",
      "Epoch 5/15\n",
      "252/313 [=======================>......] - ETA: 22s - loss: 0.0572 - categorical_accuracy: 0.9815"
     ]
    },
    {
     "name": "stderr",
     "output_type": "stream",
     "text": [
      "Corrupt JPEG data: premature end of data segment\n"
     ]
    },
    {
     "name": "stdout",
     "output_type": "stream",
     "text": [
      "313/313 [==============================] - ETA: 0s - loss: 0.0561 - categorical_accuracy: 0.9819"
     ]
    },
    {
     "name": "stderr",
     "output_type": "stream",
     "text": [
      "Corrupt JPEG data: premature end of data segment\n"
     ]
    },
    {
     "name": "stdout",
     "output_type": "stream",
     "text": [
      "313/313 [==============================] - 150s 478ms/step - loss: 0.0561 - categorical_accuracy: 0.9819 - val_loss: 0.0659 - val_categorical_accuracy: 0.9752 - lr: 1.0000e-04\n",
      "Epoch 6/15\n",
      "252/313 [=======================>......] - ETA: 22s - loss: 0.0494 - categorical_accuracy: 0.9841"
     ]
    },
    {
     "name": "stderr",
     "output_type": "stream",
     "text": [
      "Corrupt JPEG data: premature end of data segment\n"
     ]
    },
    {
     "name": "stdout",
     "output_type": "stream",
     "text": [
      "313/313 [==============================] - ETA: 0s - loss: 0.0485 - categorical_accuracy: 0.9848"
     ]
    },
    {
     "name": "stderr",
     "output_type": "stream",
     "text": [
      "Corrupt JPEG data: premature end of data segment\n"
     ]
    },
    {
     "name": "stdout",
     "output_type": "stream",
     "text": [
      "313/313 [==============================] - 151s 480ms/step - loss: 0.0485 - categorical_accuracy: 0.9848 - val_loss: 0.0598 - val_categorical_accuracy: 0.9792 - lr: 1.0000e-04\n",
      "Epoch 7/15\n",
      "252/313 [=======================>......] - ETA: 22s - loss: 0.0439 - categorical_accuracy: 0.9867"
     ]
    },
    {
     "name": "stderr",
     "output_type": "stream",
     "text": [
      "Corrupt JPEG data: premature end of data segment\n"
     ]
    },
    {
     "name": "stdout",
     "output_type": "stream",
     "text": [
      "313/313 [==============================] - ETA: 0s - loss: 0.0434 - categorical_accuracy: 0.9871"
     ]
    },
    {
     "name": "stderr",
     "output_type": "stream",
     "text": [
      "Corrupt JPEG data: premature end of data segment\n"
     ]
    },
    {
     "name": "stdout",
     "output_type": "stream",
     "text": [
      "313/313 [==============================] - 150s 480ms/step - loss: 0.0434 - categorical_accuracy: 0.9871 - val_loss: 0.0606 - val_categorical_accuracy: 0.9780 - lr: 1.0000e-04\n",
      "Epoch 8/15\n",
      "252/313 [=======================>......] - ETA: 22s - loss: 0.0399 - categorical_accuracy: 0.9881"
     ]
    },
    {
     "name": "stderr",
     "output_type": "stream",
     "text": [
      "Corrupt JPEG data: premature end of data segment\n"
     ]
    },
    {
     "name": "stdout",
     "output_type": "stream",
     "text": [
      "313/313 [==============================] - ETA: 0s - loss: 0.0396 - categorical_accuracy: 0.9882"
     ]
    },
    {
     "name": "stderr",
     "output_type": "stream",
     "text": [
      "Corrupt JPEG data: premature end of data segment\n"
     ]
    },
    {
     "name": "stdout",
     "output_type": "stream",
     "text": [
      "313/313 [==============================] - 150s 477ms/step - loss: 0.0396 - categorical_accuracy: 0.9882 - val_loss: 0.0581 - val_categorical_accuracy: 0.9790 - lr: 1.0000e-04\n",
      "Epoch 9/15\n",
      "252/313 [=======================>......] - ETA: 22s - loss: 0.0358 - categorical_accuracy: 0.9892"
     ]
    },
    {
     "name": "stderr",
     "output_type": "stream",
     "text": [
      "Corrupt JPEG data: premature end of data segment\n"
     ]
    },
    {
     "name": "stdout",
     "output_type": "stream",
     "text": [
      "313/313 [==============================] - ETA: 0s - loss: 0.0354 - categorical_accuracy: 0.9891"
     ]
    },
    {
     "name": "stderr",
     "output_type": "stream",
     "text": [
      "Corrupt JPEG data: premature end of data segment\n"
     ]
    },
    {
     "name": "stdout",
     "output_type": "stream",
     "text": [
      "313/313 [==============================] - 150s 478ms/step - loss: 0.0354 - categorical_accuracy: 0.9891 - val_loss: 0.0555 - val_categorical_accuracy: 0.9818 - lr: 1.0000e-04\n",
      "Epoch 10/15\n",
      "248/313 [======================>.......] - ETA: 24s - loss: 0.0327 - categorical_accuracy: 0.9899"
     ]
    },
    {
     "name": "stderr",
     "output_type": "stream",
     "text": [
      "Corrupt JPEG data: premature end of data segment\n"
     ]
    },
    {
     "name": "stdout",
     "output_type": "stream",
     "text": [
      "313/313 [==============================] - ETA: 0s - loss: 0.0325 - categorical_accuracy: 0.9901"
     ]
    },
    {
     "name": "stderr",
     "output_type": "stream",
     "text": [
      "Corrupt JPEG data: premature end of data segment\n"
     ]
    },
    {
     "name": "stdout",
     "output_type": "stream",
     "text": [
      "313/313 [==============================] - 149s 474ms/step - loss: 0.0325 - categorical_accuracy: 0.9901 - val_loss: 0.0502 - val_categorical_accuracy: 0.9831 - lr: 1.0000e-04\n",
      "Epoch 11/15\n",
      "252/313 [=======================>......] - ETA: 22s - loss: 0.0296 - categorical_accuracy: 0.9914"
     ]
    },
    {
     "name": "stderr",
     "output_type": "stream",
     "text": [
      "Corrupt JPEG data: premature end of data segment\n"
     ]
    },
    {
     "name": "stdout",
     "output_type": "stream",
     "text": [
      "313/313 [==============================] - ETA: 0s - loss: 0.0295 - categorical_accuracy: 0.9915"
     ]
    },
    {
     "name": "stderr",
     "output_type": "stream",
     "text": [
      "Corrupt JPEG data: premature end of data segment\n"
     ]
    },
    {
     "name": "stdout",
     "output_type": "stream",
     "text": [
      "313/313 [==============================] - 149s 475ms/step - loss: 0.0295 - categorical_accuracy: 0.9915 - val_loss: 0.0487 - val_categorical_accuracy: 0.9843 - lr: 1.0000e-04\n",
      "Epoch 12/15\n",
      "252/313 [=======================>......] - ETA: 22s - loss: 0.0270 - categorical_accuracy: 0.9925"
     ]
    },
    {
     "name": "stderr",
     "output_type": "stream",
     "text": [
      "Corrupt JPEG data: premature end of data segment\n"
     ]
    },
    {
     "name": "stdout",
     "output_type": "stream",
     "text": [
      "313/313 [==============================] - ETA: 0s - loss: 0.0272 - categorical_accuracy: 0.9921"
     ]
    },
    {
     "name": "stderr",
     "output_type": "stream",
     "text": [
      "Corrupt JPEG data: premature end of data segment\n"
     ]
    },
    {
     "name": "stdout",
     "output_type": "stream",
     "text": [
      "313/313 [==============================] - 149s 475ms/step - loss: 0.0272 - categorical_accuracy: 0.9921 - val_loss: 0.0497 - val_categorical_accuracy: 0.9839 - lr: 1.0000e-04\n",
      "Epoch 13/15\n",
      "252/313 [=======================>......] - ETA: 23s - loss: 0.0252 - categorical_accuracy: 0.9929"
     ]
    },
    {
     "name": "stderr",
     "output_type": "stream",
     "text": [
      "Corrupt JPEG data: premature end of data segment\n"
     ]
    },
    {
     "name": "stdout",
     "output_type": "stream",
     "text": [
      "313/313 [==============================] - ETA: 0s - loss: 0.0252 - categorical_accuracy: 0.9930"
     ]
    },
    {
     "name": "stderr",
     "output_type": "stream",
     "text": [
      "Corrupt JPEG data: premature end of data segment\n"
     ]
    },
    {
     "name": "stdout",
     "output_type": "stream",
     "text": [
      "313/313 [==============================] - 152s 485ms/step - loss: 0.0252 - categorical_accuracy: 0.9930 - val_loss: 0.0472 - val_categorical_accuracy: 0.9843 - lr: 1.0000e-04\n",
      "Epoch 14/15\n",
      "252/313 [=======================>......] - ETA: 22s - loss: 0.0227 - categorical_accuracy: 0.9944"
     ]
    },
    {
     "name": "stderr",
     "output_type": "stream",
     "text": [
      "Corrupt JPEG data: premature end of data segment\n"
     ]
    },
    {
     "name": "stdout",
     "output_type": "stream",
     "text": [
      "313/313 [==============================] - ETA: 0s - loss: 0.0222 - categorical_accuracy: 0.9942"
     ]
    },
    {
     "name": "stderr",
     "output_type": "stream",
     "text": [
      "Corrupt JPEG data: premature end of data segment\n"
     ]
    },
    {
     "name": "stdout",
     "output_type": "stream",
     "text": [
      "313/313 [==============================] - 150s 477ms/step - loss: 0.0222 - categorical_accuracy: 0.9942 - val_loss: 0.0462 - val_categorical_accuracy: 0.9845 - lr: 1.0000e-04\n",
      "Epoch 15/15\n",
      "252/313 [=======================>......] - ETA: 22s - loss: 0.0213 - categorical_accuracy: 0.9946"
     ]
    },
    {
     "name": "stderr",
     "output_type": "stream",
     "text": [
      "Corrupt JPEG data: premature end of data segment\n"
     ]
    },
    {
     "name": "stdout",
     "output_type": "stream",
     "text": [
      "313/313 [==============================] - ETA: 0s - loss: 0.0212 - categorical_accuracy: 0.9947"
     ]
    },
    {
     "name": "stderr",
     "output_type": "stream",
     "text": [
      "Corrupt JPEG data: premature end of data segment\n"
     ]
    },
    {
     "name": "stdout",
     "output_type": "stream",
     "text": [
      "313/313 [==============================] - 150s 480ms/step - loss: 0.0212 - categorical_accuracy: 0.9947 - val_loss: 0.0449 - val_categorical_accuracy: 0.9843 - lr: 1.0000e-04\n"
     ]
    }
   ],
   "source": [
    "history = model.fit(train_ds,\n",
    "                    validation_data=val_ds,\n",
    "                    epochs=15,\n",
    "                    callbacks=[early_stop, reduce_lr])"
   ]
  },
  {
   "cell_type": "code",
   "execution_count": 22,
   "id": "674006a9-3739-4ec9-8145-eda5f4c697a5",
   "metadata": {},
   "outputs": [
    {
     "name": "stdout",
     "output_type": "stream",
     "text": [
      "252/313 [=======================>......] - ETA: 22s - loss: 0.0187 - categorical_accuracy: 0.9960"
     ]
    },
    {
     "name": "stderr",
     "output_type": "stream",
     "text": [
      "Corrupt JPEG data: premature end of data segment\n"
     ]
    },
    {
     "name": "stdout",
     "output_type": "stream",
     "text": [
      "313/313 [==============================] - 115s 366ms/step - loss: 0.0185 - categorical_accuracy: 0.9961\n"
     ]
    }
   ],
   "source": [
    "train_loss,train_acc = model.evaluate(train_ds)"
   ]
  },
  {
   "cell_type": "code",
   "execution_count": 23,
   "id": "4b3721a7-0afd-4de1-a957-d14857b78474",
   "metadata": {},
   "outputs": [
    {
     "data": {
      "text/plain": [
       "(0.018464138731360435, 0.996056318283081)"
      ]
     },
     "execution_count": 23,
     "metadata": {},
     "output_type": "execute_result"
    }
   ],
   "source": [
    "train_loss,train_acc"
   ]
  },
  {
   "cell_type": "code",
   "execution_count": 24,
   "id": "7c1406db-23c8-45ce-82e8-8c95cdea803d",
   "metadata": {},
   "outputs": [
    {
     "name": "stderr",
     "output_type": "stream",
     "text": [
      "Corrupt JPEG data: premature end of data segment\n"
     ]
    },
    {
     "name": "stdout",
     "output_type": "stream",
     "text": [
      "79/79 [==============================] - 31s 357ms/step - loss: 0.0453 - categorical_accuracy: 0.9837\n"
     ]
    }
   ],
   "source": [
    "val_loss,val_acc=model.evaluate(val_ds)"
   ]
  },
  {
   "cell_type": "code",
   "execution_count": 25,
   "id": "853ef86e-5a0e-4eb9-b274-bed843adb307",
   "metadata": {},
   "outputs": [],
   "source": [
    "model.save(\"trained_model_grape.keras\")"
   ]
  },
  {
   "cell_type": "code",
   "execution_count": 26,
   "id": "59bb8c9d-7483-4e11-ace1-9bf1a2dc3304",
   "metadata": {},
   "outputs": [
    {
     "data": {
      "image/png": "[encoded data removed]",
      "text/plain": [
       "<Figure size 640x480 with 1 Axes>"
      ]
     },
     "metadata": {},
     "output_type": "display_data"
    }
   ],
   "source": [
    "import matplotlib.pyplot as plt\n",
    "import pandas as pd\n",
    "import seaborn as sns\n",
    "\n",
    "epochs=[i for i in range(1,16)]\n",
    "plt.plot(epochs,history.history['categorical_accuracy'],color='orange',label='Training Accuracy')\n",
    "plt.plot(epochs,history.history['val_categorical_accuracy'],color='blue',label='Validation Accuracy')\n",
    "plt.xlabel('No. of Epochs')\n",
    "plt.ylabel('Accuracy')\n",
    "plt.title('Visualization of training, and validation accuracy')\n",
    "plt.legend()\n",
    "plt.show()\n"
   ]
  },
  {
   "cell_type": "code",
   "execution_count": 28,
   "id": "4552e26f-85d9-484e-8c59-14ffa0fd4b70",
   "metadata": {},
   "outputs": [
    {
     "ename": "FileNotFoundError",
     "evalue": "[Errno 2] No such file or directory: '/home/teaching/Atmega_MIC/DP Students/Abhay/cropwise_data/grape/grape_black_rot/grape_Black Rot.1.jpg'",
     "output_type": "error",
     "traceback": [
      "\u001b[0;31m---------------------------------------------------------------------------\u001b[0m",
      "\u001b[0;31mFileNotFoundError\u001b[0m                         Traceback (most recent call last)",
      "Cell \u001b[0;32mIn[28], line 19\u001b[0m\n\u001b[1;32m     16\u001b[0m \u001b[38;5;28;01mfrom\u001b[39;00m\u001b[38;5;250m \u001b[39m\u001b[38;5;21;01mtensorflow\u001b[39;00m\u001b[38;5;21;01m.\u001b[39;00m\u001b[38;5;21;01mkeras\u001b[39;00m\u001b[38;5;21;01m.\u001b[39;00m\u001b[38;5;21;01mpreprocessing\u001b[39;00m\u001b[38;5;250m \u001b[39m\u001b[38;5;28;01mimport\u001b[39;00m image\n\u001b[1;32m     17\u001b[0m \u001b[38;5;28;01mimport\u001b[39;00m\u001b[38;5;250m \u001b[39m\u001b[38;5;21;01mnumpy\u001b[39;00m\u001b[38;5;250m \u001b[39m\u001b[38;5;28;01mas\u001b[39;00m\u001b[38;5;250m \u001b[39m\u001b[38;5;21;01mnp\u001b[39;00m\n\u001b[0;32m---> 19\u001b[0m \u001b[43mpredict_image\u001b[49m\u001b[43m(\u001b[49m\u001b[38;5;124;43m\"\u001b[39;49m\u001b[38;5;124;43m/home/teaching/Atmega_MIC/DP Students/Abhay/cropwise_data/grape/grape_black_rot/grape_Black Rot.1.jpg\u001b[39;49m\u001b[38;5;124;43m\"\u001b[39;49m\u001b[43m)\u001b[49m\n",
      "Cell \u001b[0;32mIn[28], line 2\u001b[0m, in \u001b[0;36mpredict_image\u001b[0;34m(img_path)\u001b[0m\n\u001b[1;32m      1\u001b[0m \u001b[38;5;28;01mdef\u001b[39;00m\u001b[38;5;250m \u001b[39m\u001b[38;5;21mpredict_image\u001b[39m(img_path):\n\u001b[0;32m----> 2\u001b[0m     img \u001b[38;5;241m=\u001b[39m \u001b[43mimage\u001b[49m\u001b[38;5;241;43m.\u001b[39;49m\u001b[43mload_img\u001b[49m\u001b[43m(\u001b[49m\u001b[43mimg_path\u001b[49m\u001b[43m,\u001b[49m\u001b[43m \u001b[49m\u001b[43mtarget_size\u001b[49m\u001b[38;5;241;43m=\u001b[39;49m\u001b[43m(\u001b[49m\u001b[38;5;241;43m224\u001b[39;49m\u001b[43m,\u001b[49m\u001b[43m \u001b[49m\u001b[38;5;241;43m224\u001b[39;49m\u001b[43m)\u001b[49m\u001b[43m)\u001b[49m\n\u001b[1;32m      3\u001b[0m     img_array \u001b[38;5;241m=\u001b[39m image\u001b[38;5;241m.\u001b[39mimg_to_array(img)\n\u001b[1;32m      4\u001b[0m     img_array \u001b[38;5;241m=\u001b[39m img_array \u001b[38;5;241m/\u001b[39m \u001b[38;5;241m255.0\u001b[39m  \u001b[38;5;66;03m# normalize\u001b[39;00m\n",
      "File \u001b[0;32m~/.local/lib/python3.10/site-packages/keras/utils/image_utils.py:422\u001b[0m, in \u001b[0;36mload_img\u001b[0;34m(path, grayscale, color_mode, target_size, interpolation, keep_aspect_ratio)\u001b[0m\n\u001b[1;32m    420\u001b[0m     \u001b[38;5;28;01mif\u001b[39;00m \u001b[38;5;28misinstance\u001b[39m(path, pathlib\u001b[38;5;241m.\u001b[39mPath):\n\u001b[1;32m    421\u001b[0m         path \u001b[38;5;241m=\u001b[39m \u001b[38;5;28mstr\u001b[39m(path\u001b[38;5;241m.\u001b[39mresolve())\n\u001b[0;32m--> 422\u001b[0m     \u001b[38;5;28;01mwith\u001b[39;00m \u001b[38;5;28;43mopen\u001b[39;49m\u001b[43m(\u001b[49m\u001b[43mpath\u001b[49m\u001b[43m,\u001b[49m\u001b[43m \u001b[49m\u001b[38;5;124;43m\"\u001b[39;49m\u001b[38;5;124;43mrb\u001b[39;49m\u001b[38;5;124;43m\"\u001b[39;49m\u001b[43m)\u001b[49m \u001b[38;5;28;01mas\u001b[39;00m f:\n\u001b[1;32m    423\u001b[0m         img \u001b[38;5;241m=\u001b[39m pil_image\u001b[38;5;241m.\u001b[39mopen(io\u001b[38;5;241m.\u001b[39mBytesIO(f\u001b[38;5;241m.\u001b[39mread()))\n\u001b[1;32m    424\u001b[0m \u001b[38;5;28;01melse\u001b[39;00m:\n",
      "\u001b[0;31mFileNotFoundError\u001b[0m: [Errno 2] No such file or directory: '/home/teaching/Atmega_MIC/DP Students/Abhay/cropwise_data/grape/grape_black_rot/grape_Black Rot.1.jpg'"
     ]
    }
   ],
   "source": [
    "def predict_image(img_path):\n",
    "    img = image.load_img(img_path, target_size=(224, 224))\n",
    "    img_array = image.img_to_array(img)\n",
    "    img_array = img_array / 255.0  # normalize\n",
    "    img_array = np.expand_dims(img_array, axis=0)  # add batch dimension\n",
    "\n",
    "    predictions = model.predict(img_array)\n",
    "    predicted_class = classes[np.argmax(predictions)]\n",
    "\n",
    "    print(f\"Predicted class: {predicted_class}\")\n",
    "    plt.imshow(img)\n",
    "    plt.title(f\"Predicted: {predicted_class}\")\n",
    "    plt.axis('off')\n",
    "    plt.show()\n",
    "\n",
    "from tensorflow.keras.preprocessing import image\n",
    "import numpy as np\n",
    "\n",
    "predict_image(\"/home/teaching/Atmega_MIC/DP Students/Abhay/cropwise_data/grape/grape_black_rot/grape_Black Rot.1.jpg\")\n"
   ]
  },
  {
   "cell_type": "code",
   "execution_count": null,
   "id": "f21c1353-b0b0-45ee-bc9f-2681a98d63b4",
   "metadata": {},
   "outputs": [],
   "source": []
  }
 ],
 "metadata": {
  "kernelspec": {
   "display_name": "Python 3 (ipykernel)",
   "language": "python",
   "name": "python3"
  },
  "language_info": {
   "codemirror_mode": {
    "name": "ipython",
    "version": 3
   },
   "file_extension": ".py",
   "mimetype": "text/x-python",
   "name": "python",
   "nbconvert_exporter": "python",
   "pygments_lexer": "ipython3",
   "version": "3.10.12"
  }
 },
 "nbformat": 4,
 "nbformat_minor": 5
}
