{
 "cells": [
  {
   "cell_type": "code",
   "execution_count": 2,
   "id": "67648977-a9c5-4e25-a21e-75587a98ba80",
   "metadata": {},
   "outputs": [],
   "source": [
    "import tensorflow as tf"
   ]
  },
  {
   "cell_type": "code",
   "execution_count": 13,
   "id": "4665e331-6583-49fb-8c5c-e7f172846f32",
   "metadata": {},
   "outputs": [
    {
     "name": "stdout",
     "output_type": "stream",
     "text": [
      "Found 83019 files belonging to 10 classes.\n"
     ]
    }
   ],
   "source": [
    "train=r\"/home/teaching/Atmega_MIC/DP Students/Abhay/cropwise_data/tomato\"\n",
    "training_set = tf.keras.utils.image_dataset_from_directory(\n",
    "    train,\n",
    "    labels=\"inferred\",\n",
    "    label_mode=\"categorical\",\n",
    "    class_names=None,\n",
    "    color_mode=\"rgb\",\n",
    "    batch_size=64,\n",
    "    image_size=(224, 224),\n",
    "    shuffle=True,\n",
    "    seed=None,\n",
    "    validation_split=None,\n",
    "    subset=None,\n",
    "    interpolation=\"bilinear\",\n",
    "    follow_links=False,\n",
    "    crop_to_aspect_ratio=False,\n",
    ")"
   ]
  },
  {
   "cell_type": "code",
   "execution_count": 14,
   "id": "1d67ab2f-e55a-4f87-a87c-c9d8454e7f28",
   "metadata": {},
   "outputs": [
    {
     "data": {
      "text/plain": [
       "['tomato_bacterial_spot',\n",
       " 'tomato_early_blight',\n",
       " 'tomato_healthy',\n",
       " 'tomato_late_blight',\n",
       " 'tomato_leaf_mold',\n",
       " 'tomato_mosaic_virus',\n",
       " 'tomato_septoria_leaf_spot',\n",
       " 'tomato_spider_mites',\n",
       " 'tomato_target_spot',\n",
       " 'tomato_yellow_leaf_curl_virus']"
      ]
     },
     "execution_count": 14,
     "metadata": {},
     "output_type": "execute_result"
    }
   ],
   "source": [
    "classes = training_set.class_names\n",
    "classes"
   ]
  },
  {
   "cell_type": "code",
   "execution_count": 15,
   "id": "5e07af2e-e058-4dc5-b290-3688167b9ae4",
   "metadata": {},
   "outputs": [
    {
     "name": "stdout",
     "output_type": "stream",
     "text": [
      "1298\n",
      "1038\n",
      "260\n"
     ]
    }
   ],
   "source": [
    "total_batches = tf.data.experimental.cardinality(training_set).numpy()\n",
    "train_size = int(0.8 * total_batches)\n",
    "val_size = total_batches - train_size\n",
    "train_dataset = training_set.take(train_size)\n",
    "val_dataset = training_set.skip(train_size)\n",
    "print(len(training_set))\n",
    "print(len(train_dataset))\n",
    "print(len(val_dataset))"
   ]
  },
  {
   "cell_type": "code",
   "execution_count": 17,
   "id": "87131818-48b9-44c7-bf87-82eea79bc7db",
   "metadata": {},
   "outputs": [],
   "source": [
    "from tensorflow.keras.applications import MobileNetV2\n",
    "from tensorflow.keras.models import Sequential\n",
    "from tensorflow.keras.layers import Dense, GlobalAveragePooling2D, Dropout\n",
    "from tensorflow.keras.optimizers import Adam\n",
    "from tensorflow.keras import callbacks\n",
    "\n",
    "base_model = MobileNetV2(input_shape=(224, 224, 3), include_top=False, weights='imagenet')\n",
    "base_model.trainable = False  # Freeze base\n",
    "\n",
    "model = Sequential([\n",
    "    base_model,\n",
    "    GlobalAveragePooling2D(),\n",
    "    Dropout(0.3),\n",
    "    Dense(256, activation='relu'),\n",
    "    Dropout(0.4),\n",
    "    Dense(10, activation='softmax')  # 6 classes\n",
    "])\n",
    "\n",
    "model.compile(optimizer=Adam(learning_rate=1e-4),\n",
    "              loss='categorical_crossentropy',\n",
    "              metrics=['categorical_accuracy'])\n"
   ]
  },
  {
   "cell_type": "code",
   "execution_count": null,
   "id": "83a08d11-2042-4718-b304-13bbaff43dba",
   "metadata": {},
   "outputs": [],
   "source": [
    "early_stop = callbacks.EarlyStopping(patience=3, restore_best_weights=True)\n",
    "model.fit(train_dataset,\n",
    "          validation_data=val_dataset,\n",
    "          epochs=15,\n",
    "          callbacks=[early_stop])"
   ]
  },
  {
   "cell_type": "code",
   "execution_count": null,
   "id": "92c1594d-34d3-492c-9fbf-2854a987545f",
   "metadata": {},
   "outputs": [],
   "source": []
  }
 ],
 "metadata": {
  "kernelspec": {
   "display_name": "Python 3 (ipykernel)",
   "language": "python",
   "name": "python3"
  },
  "language_info": {
   "codemirror_mode": {
    "name": "ipython",
    "version": 3
   },
   "file_extension": ".py",
   "mimetype": "text/x-python",
   "name": "python",
   "nbconvert_exporter": "python",
   "pygments_lexer": "ipython3",
   "version": "3.10.12"
  }
 },
 "nbformat": 4,
 "nbformat_minor": 5
}
