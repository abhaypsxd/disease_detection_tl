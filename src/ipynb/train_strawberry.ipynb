{
 "cells": [
  {
   "cell_type": "code",
   "execution_count": 2,
   "id": "4787f216-9b1f-4d6e-a19f-eaffd31959ef",
   "metadata": {},
   "outputs": [],
   "source": [
    "import tensorflow as tf"
   ]
  },
  {
   "cell_type": "code",
   "execution_count": 6,
   "id": "b8fcc2d1-d5d6-46ee-a083-8d38e9be35ce",
   "metadata": {},
   "outputs": [
    {
     "name": "stdout",
     "output_type": "stream",
     "text": [
      "Found 12500 files belonging to 3 classes.\n"
     ]
    }
   ],
   "source": [
    "train=r\"/home/teaching/Atmega_MIC/DP Students/Abhay/cropwise_data/strawberry\"\n",
    "training_set = tf.keras.utils.image_dataset_from_directory(\n",
    "    train,\n",
    "    labels=\"inferred\",\n",
    "    label_mode=\"categorical\",\n",
    "    class_names=None,\n",
    "    color_mode=\"rgb\",\n",
    "    batch_size=64,\n",
    "    image_size=(224, 224),\n",
    "    shuffle=True,\n",
    "    seed=None,\n",
    "    validation_split=None,\n",
    "    subset=None,\n",
    "    interpolation=\"bilinear\",\n",
    "    follow_links=False,\n",
    "    crop_to_aspect_ratio=False,\n",
    ")"
   ]
  },
  {
   "cell_type": "code",
   "execution_count": 7,
   "id": "666920d5-4687-46d6-a5f2-20ef072f53e9",
   "metadata": {},
   "outputs": [
    {
     "data": {
      "text/plain": [
       "['strawberry_calciumdeficiency',\n",
       " 'strawberry_healthy',\n",
       " 'strawberry_leaf_scorch']"
      ]
     },
     "execution_count": 7,
     "metadata": {},
     "output_type": "execute_result"
    }
   ],
   "source": [
    "classes = training_set.class_names\n",
    "classes"
   ]
  },
  {
   "cell_type": "code",
   "execution_count": 8,
   "id": "dd3df1db-ea0c-47c3-9145-626afe28ec09",
   "metadata": {},
   "outputs": [
    {
     "name": "stdout",
     "output_type": "stream",
     "text": [
      "196\n",
      "156\n",
      "40\n"
     ]
    }
   ],
   "source": [
    "total_batches = tf.data.experimental.cardinality(training_set).numpy()\n",
    "train_size = int(0.8 * total_batches)\n",
    "val_size = total_batches - train_size\n",
    "train_dataset = training_set.take(train_size)\n",
    "val_dataset = training_set.skip(train_size)\n",
    "print(len(training_set))\n",
    "print(len(train_dataset))\n",
    "print(len(val_dataset))"
   ]
  },
  {
   "cell_type": "code",
   "execution_count": 9,
   "id": "dab2cca0-eb99-4578-a3f7-26be359e0b1a",
   "metadata": {},
   "outputs": [],
   "source": [
    "from tensorflow.keras.applications import MobileNetV2\n",
    "from tensorflow.keras.models import Sequential\n",
    "from tensorflow.keras.layers import Dense, GlobalAveragePooling2D\n",
    "from tensorflow.keras.optimizers import Adam\n",
    "from tensorflow.keras import callbacks\n",
    "\n",
    "base_model = MobileNetV2(input_shape=(224, 224, 3), include_top=False, weights='imagenet')\n",
    "base_model.trainable = False  # Freeze base\n",
    "\n",
    "model = Sequential([\n",
    "    base_model,\n",
    "    GlobalAveragePooling2D(),\n",
    "    Dense(128, activation='relu'),\n",
    "    Dense(3, activation='softmax')  # 6 classes\n",
    "])\n",
    "\n",
    "model.compile(optimizer=Adam(learning_rate=0.001),\n",
    "              loss='categorical_crossentropy',\n",
    "              metrics=['categorical_accuracy'])\n"
   ]
  },
  {
   "cell_type": "code",
   "execution_count": 10,
   "id": "7d2ba65b-f71e-4ff4-837c-68ec3d127f6f",
   "metadata": {},
   "outputs": [],
   "source": [
    "from tensorflow.keras.layers import Rescaling, RandomFlip, RandomRotation\n",
    "from tensorflow.keras import Sequential\n",
    "\n",
    "preprocessing = Sequential([\n",
    "    Rescaling(1./255),\n",
    "    RandomFlip(\"horizontal\"),\n",
    "    RandomRotation(0.1)\n",
    "])\n",
    "\n",
    "train_ds = train_dataset.map(lambda x, y: (preprocessing(x), y))\n",
    "val_ds = val_dataset.map(lambda x, y: (x / 255.0, y))\n"
   ]
  },
  {
   "cell_type": "code",
   "execution_count": 11,
   "id": "24717bca-495f-4f44-973c-43883e6f8dbf",
   "metadata": {},
   "outputs": [
    {
     "name": "stdout",
     "output_type": "stream",
     "text": [
      "Epoch 1/10\n"
     ]
    },
    {
     "name": "stderr",
     "output_type": "stream",
     "text": [
      "2025-05-02 17:18:18.231569: W tensorflow/core/framework/cpu_allocator_impl.cc:82] Allocation of 308281344 exceeds 10% of free system memory.\n",
      "2025-05-02 17:18:18.250640: W tensorflow/core/framework/cpu_allocator_impl.cc:82] Allocation of 313810944 exceeds 10% of free system memory.\n"
     ]
    },
    {
     "name": "stdout",
     "output_type": "stream",
     "text": [
      "  1/156 [..............................] - ETA: 13:01 - loss: 1.1117 - categorical_accuracy: 0.4531"
     ]
    },
    {
     "name": "stderr",
     "output_type": "stream",
     "text": [
      "2025-05-02 17:18:18.824172: W tensorflow/core/framework/cpu_allocator_impl.cc:82] Allocation of 308281344 exceeds 10% of free system memory.\n",
      "2025-05-02 17:18:18.851843: W tensorflow/core/framework/cpu_allocator_impl.cc:82] Allocation of 313810944 exceeds 10% of free system memory.\n"
     ]
    },
    {
     "name": "stdout",
     "output_type": "stream",
     "text": [
      "  2/156 [..............................] - ETA: 2:05 - loss: 0.8508 - categorical_accuracy: 0.6562 "
     ]
    },
    {
     "name": "stderr",
     "output_type": "stream",
     "text": [
      "2025-05-02 17:18:19.688555: W tensorflow/core/framework/cpu_allocator_impl.cc:82] Allocation of 308281344 exceeds 10% of free system memory.\n"
     ]
    },
    {
     "name": "stdout",
     "output_type": "stream",
     "text": [
      "156/156 [==============================] - 153s 956ms/step - loss: 0.0501 - categorical_accuracy: 0.9828 - val_loss: 0.0205 - val_categorical_accuracy: 0.9928 - lr: 0.0010\n",
      "Epoch 2/10\n",
      "156/156 [==============================] - 136s 864ms/step - loss: 0.0117 - categorical_accuracy: 0.9970 - val_loss: 0.1004 - val_categorical_accuracy: 0.9674 - lr: 0.0010\n",
      "Epoch 3/10\n",
      "156/156 [==============================] - 137s 871ms/step - loss: 0.0071 - categorical_accuracy: 0.9977 - val_loss: 0.0096 - val_categorical_accuracy: 0.9972 - lr: 0.0010\n",
      "Epoch 4/10\n",
      "156/156 [==============================] - 138s 874ms/step - loss: 0.0094 - categorical_accuracy: 0.9966 - val_loss: 0.0117 - val_categorical_accuracy: 0.9964 - lr: 0.0010\n",
      "Epoch 5/10\n",
      "156/156 [==============================] - 136s 858ms/step - loss: 0.0021 - categorical_accuracy: 0.9997 - val_loss: 0.0084 - val_categorical_accuracy: 0.9960 - lr: 0.0010\n",
      "Epoch 6/10\n",
      "156/156 [==============================] - 127s 799ms/step - loss: 0.0016 - categorical_accuracy: 0.9996 - val_loss: 0.0063 - val_categorical_accuracy: 0.9980 - lr: 0.0010\n",
      "Epoch 7/10\n",
      "156/156 [==============================] - 115s 728ms/step - loss: 4.8950e-04 - categorical_accuracy: 1.0000 - val_loss: 0.0062 - val_categorical_accuracy: 0.9980 - lr: 0.0010\n",
      "Epoch 8/10\n",
      "156/156 [==============================] - 114s 721ms/step - loss: 3.3689e-04 - categorical_accuracy: 1.0000 - val_loss: 0.0063 - val_categorical_accuracy: 0.9980 - lr: 0.0010\n",
      "Epoch 9/10\n",
      "156/156 [==============================] - 114s 722ms/step - loss: 2.7672e-04 - categorical_accuracy: 1.0000 - val_loss: 0.0063 - val_categorical_accuracy: 0.9980 - lr: 0.0010\n",
      "Epoch 10/10\n",
      "156/156 [==============================] - 146s 931ms/step - loss: 2.2066e-04 - categorical_accuracy: 1.0000 - val_loss: 0.0066 - val_categorical_accuracy: 0.9980 - lr: 4.0000e-04\n"
     ]
    }
   ],
   "source": [
    "early_stop = callbacks.EarlyStopping(patience=3, restore_best_weights=True)\n",
    "reduce_lr = callbacks.ReduceLROnPlateau(factor=0.4, patience=3, min_lr=1e-6)\n",
    "history = model.fit(train_ds,\n",
    "                    validation_data=val_ds,\n",
    "                    epochs=10,\n",
    "                    callbacks=[early_stop, reduce_lr])\n"
   ]
  },
  {
   "cell_type": "code",
   "execution_count": 12,
   "id": "82510aaa-c806-4197-b89b-961fcf790e32",
   "metadata": {},
   "outputs": [
    {
     "name": "stdout",
     "output_type": "stream",
     "text": [
      "156/156 [==============================] - 96s 601ms/step - loss: 3.9852e-04 - categorical_accuracy: 1.0000\n"
     ]
    }
   ],
   "source": [
    "train_loss,train_acc = model.evaluate(train_ds)"
   ]
  },
  {
   "cell_type": "code",
   "execution_count": 13,
   "id": "e113fa52-0338-4e28-9dcf-d01fd3dd24f8",
   "metadata": {},
   "outputs": [],
   "source": [
    "model.save(\"trained_models/trained_model_strawberry.keras\")"
   ]
  },
  {
   "cell_type": "code",
   "execution_count": 14,
   "id": "5c4e60df-d490-4cd4-a529-f70c7ea7b168",
   "metadata": {},
   "outputs": [
    {
     "data": {
      "text/plain": [
       "(0.0003985201474279165, 1.0)"
      ]
     },
     "execution_count": 14,
     "metadata": {},
     "output_type": "execute_result"
    }
   ],
   "source": [
    "train_loss, train_acc"
   ]
  },
  {
   "cell_type": "code",
   "execution_count": 15,
   "id": "4667c881-5b59-4098-8888-601402c68353",
   "metadata": {},
   "outputs": [
    {
     "data": {
      "image/png": "[encoded data removed]",
      "text/plain": [
       "<Figure size 640x480 with 1 Axes>"
      ]
     },
     "metadata": {},
     "output_type": "display_data"
    }
   ],
   "source": [
    "import matplotlib.pyplot as plt\n",
    "import pandas as pd\n",
    "import seaborn as sns\n",
    "\n",
    "epochs=[i for i in range(1,11)]\n",
    "plt.plot(epochs,history.history['categorical_accuracy'],color='orange',label='Training Accuracy')\n",
    "plt.plot(epochs,history.history['val_categorical_accuracy'],color='blue',label='Validation Accuracy')\n",
    "plt.xlabel('No. of Epochs')\n",
    "plt.ylabel('Accuracy')\n",
    "plt.title('Visualization of training, and validation accuracy')\n",
    "plt.legend()\n",
    "plt.show()\n"
   ]
  },
  {
   "cell_type": "code",
   "execution_count": null,
   "id": "08e0f181-21f2-4c12-9bf5-58d7285affe1",
   "metadata": {},
   "outputs": [],
   "source": []
  }
 ],
 "metadata": {
  "kernelspec": {
   "display_name": "Python 3 (ipykernel)",
   "language": "python",
   "name": "python3"
  },
  "language_info": {
   "codemirror_mode": {
    "name": "ipython",
    "version": 3
   },
   "file_extension": ".py",
   "mimetype": "text/x-python",
   "name": "python",
   "nbconvert_exporter": "python",
   "pygments_lexer": "ipython3",
   "version": "3.10.12"
  }
 },
 "nbformat": 4,
 "nbformat_minor": 5
}
