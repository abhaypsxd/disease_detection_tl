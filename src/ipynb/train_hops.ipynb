{
 "cells": [
  {
   "cell_type": "code",
   "execution_count": 2,
   "id": "f98fea1e-8021-4d5f-bd96-f5871e8c7fc6",
   "metadata": {},
   "outputs": [],
   "source": [
    "import tensorflow as tf"
   ]
  },
  {
   "cell_type": "code",
   "execution_count": 24,
   "id": "b2911aa7-278e-49bc-abdf-74105085c687",
   "metadata": {},
   "outputs": [],
   "source": [
    "from pathlib import Path\n",
    "import imghdr\n",
    "import os\n",
    "\n",
    "data_dir = r\"/home/teaching/Atmega_MIC/DP Students/Abhay/cropwise_data/hops\"\n",
    "image_extensions = [\".png\", \".jpg\"]  # add there all your images file extensions\n",
    "\n",
    "img_type_accepted_by_tf = [\"bmp\", \"gif\", \"jpeg\", \"png\"]\n",
    "for filepath in Path(data_dir).rglob(\"*\"):\n",
    "    if filepath.suffix.lower() in image_extensions:\n",
    "        img_type = imghdr.what(filepath)\n",
    "        if img_type is None:\n",
    "            print(f\"{filepath} is not an image\")\n",
    "            os.remove(filepath)\n",
    "        elif img_type not in img_type_accepted_by_tf:\n",
    "            print(f\"{filepath} is a {img_type}, not accepted by TensorFlow\")"
   ]
  },
  {
   "cell_type": "code",
   "execution_count": 25,
   "id": "7717191c-d981-4ede-9a82-f722da3e48ae",
   "metadata": {},
   "outputs": [
    {
     "name": "stdout",
     "output_type": "stream",
     "text": [
      "Found 318 files belonging to 3 classes.\n"
     ]
    }
   ],
   "source": [
    "train=r\"/home/teaching/Atmega_MIC/DP Students/Abhay/cropwise_data/hops\"\n",
    "training_set = tf.keras.utils.image_dataset_from_directory(\n",
    "    train,\n",
    "    labels=\"inferred\",\n",
    "    label_mode=\"categorical\",\n",
    "    class_names=None,\n",
    "    color_mode=\"rgb\",\n",
    "    batch_size=16,\n",
    "    image_size=(224, 224),\n",
    "    shuffle=True,\n",
    "    seed=None,\n",
    "    validation_split=None,\n",
    "    subset=None,\n",
    "    interpolation=\"bilinear\",\n",
    "    follow_links=False,\n",
    "    crop_to_aspect_ratio=False,\n",
    ")"
   ]
  },
  {
   "cell_type": "code",
   "execution_count": 26,
   "id": "7c54078b-90bc-4f37-ab33-5e003307ae6a",
   "metadata": {},
   "outputs": [
    {
     "data": {
      "text/plain": [
       "['hops_downy', 'hops_healthy', 'hops_powdery']"
      ]
     },
     "execution_count": 26,
     "metadata": {},
     "output_type": "execute_result"
    }
   ],
   "source": [
    "classes = training_set.class_names\n",
    "classes"
   ]
  },
  {
   "cell_type": "code",
   "execution_count": 27,
   "id": "ad870c48-3477-4dbc-804d-c45652008204",
   "metadata": {},
   "outputs": [
    {
     "name": "stdout",
     "output_type": "stream",
     "text": [
      "20\n",
      "16\n",
      "4\n"
     ]
    }
   ],
   "source": [
    "total_batches = tf.data.experimental.cardinality(training_set).numpy()\n",
    "train_size = int(0.8 * total_batches)\n",
    "val_size = total_batches - train_size\n",
    "train_dataset = training_set.take(train_size)\n",
    "val_dataset = training_set.skip(train_size)\n",
    "print(len(training_set))\n",
    "print(len(train_dataset))\n",
    "print(len(val_dataset))"
   ]
  },
  {
   "cell_type": "code",
   "execution_count": 28,
   "id": "fcd04267-3ad3-4580-b26d-de01f47793f8",
   "metadata": {},
   "outputs": [],
   "source": [
    "from tensorflow.keras.applications import MobileNetV2\n",
    "from tensorflow.keras.models import Sequential\n",
    "from tensorflow.keras.layers import Dense, GlobalAveragePooling2D\n",
    "from tensorflow.keras.optimizers import Adam\n",
    "from tensorflow.keras import callbacks\n",
    "\n",
    "base_model = MobileNetV2(input_shape=(224, 224, 3), include_top=False, weights='imagenet')\n",
    "base_model.trainable = False  # Freeze base\n",
    "\n",
    "model = Sequential([\n",
    "    base_model,\n",
    "    GlobalAveragePooling2D(),\n",
    "    Dense(128, activation='relu'),\n",
    "    Dense(3, activation='softmax')  # 6 classes\n",
    "])\n",
    "\n",
    "model.compile(optimizer=Adam(learning_rate=0.001),\n",
    "              loss='categorical_crossentropy',\n",
    "              metrics=['categorical_accuracy'])\n"
   ]
  },
  {
   "cell_type": "code",
   "execution_count": 29,
   "id": "3cc108e1-33d9-4235-b7d0-d9607c49d40d",
   "metadata": {},
   "outputs": [],
   "source": [
    "from tensorflow.keras.layers import Rescaling, RandomFlip, RandomRotation\n",
    "from tensorflow.keras import Sequential\n",
    "\n",
    "preprocessing = Sequential([\n",
    "    Rescaling(1./255),\n",
    "    RandomFlip(\"horizontal\"),\n",
    "    RandomRotation(0.1)\n",
    "])\n",
    "\n",
    "train_ds = train_dataset.map(lambda x, y: (preprocessing(x), y))\n",
    "val_ds = val_dataset.map(lambda x, y: (x / 255.0, y))\n"
   ]
  },
  {
   "cell_type": "code",
   "execution_count": 30,
   "id": "e8771efd-d53d-423d-8f5a-10e4b83a209b",
   "metadata": {},
   "outputs": [],
   "source": [
    "early_stop = callbacks.EarlyStopping(patience=3, restore_best_weights=True)\n",
    "reduce_lr = callbacks.ReduceLROnPlateau(factor=0.4, patience=3, min_lr=1e-6)"
   ]
  },
  {
   "cell_type": "code",
   "execution_count": 31,
   "id": "6823bd1c-3fd4-4127-a856-c32a97ae9fc8",
   "metadata": {},
   "outputs": [
    {
     "name": "stdout",
     "output_type": "stream",
     "text": [
      "Epoch 1/10\n",
      "16/16 [==============================] - 4s 153ms/step - loss: 0.9676 - categorical_accuracy: 0.5430 - val_loss: 0.4710 - val_categorical_accuracy: 0.8065 - lr: 0.0010\n",
      "Epoch 2/10\n",
      "16/16 [==============================] - 2s 125ms/step - loss: 0.4896 - categorical_accuracy: 0.8320 - val_loss: 0.2785 - val_categorical_accuracy: 0.9355 - lr: 0.0010\n",
      "Epoch 3/10\n",
      "16/16 [==============================] - 3s 149ms/step - loss: 0.3017 - categorical_accuracy: 0.8906 - val_loss: 0.2893 - val_categorical_accuracy: 0.9032 - lr: 0.0010\n",
      "Epoch 4/10\n",
      "16/16 [==============================] - 2s 116ms/step - loss: 0.2520 - categorical_accuracy: 0.9258 - val_loss: 0.2037 - val_categorical_accuracy: 0.9516 - lr: 0.0010\n",
      "Epoch 5/10\n",
      "16/16 [==============================] - 2s 115ms/step - loss: 0.1416 - categorical_accuracy: 0.9688 - val_loss: 0.1757 - val_categorical_accuracy: 0.9516 - lr: 0.0010\n",
      "Epoch 6/10\n",
      "16/16 [==============================] - 2s 116ms/step - loss: 0.1126 - categorical_accuracy: 0.9766 - val_loss: 0.0888 - val_categorical_accuracy: 0.9839 - lr: 0.0010\n",
      "Epoch 7/10\n",
      "16/16 [==============================] - 2s 118ms/step - loss: 0.0847 - categorical_accuracy: 0.9883 - val_loss: 0.0687 - val_categorical_accuracy: 0.9839 - lr: 0.0010\n",
      "Epoch 8/10\n",
      "16/16 [==============================] - 2s 112ms/step - loss: 0.0558 - categorical_accuracy: 0.9922 - val_loss: 0.0613 - val_categorical_accuracy: 1.0000 - lr: 0.0010\n",
      "Epoch 9/10\n",
      "16/16 [==============================] - 2s 115ms/step - loss: 0.0437 - categorical_accuracy: 1.0000 - val_loss: 0.0443 - val_categorical_accuracy: 0.9839 - lr: 0.0010\n",
      "Epoch 10/10\n",
      "16/16 [==============================] - 2s 113ms/step - loss: 0.0300 - categorical_accuracy: 0.9961 - val_loss: 0.0355 - val_categorical_accuracy: 1.0000 - lr: 0.0010\n"
     ]
    }
   ],
   "source": [
    "from tensorflow.keras.callbacks import EarlyStopping\n",
    "\n",
    "history = model.fit(train_ds,\n",
    "                    validation_data=val_ds,\n",
    "                    epochs=10,\n",
    "                    callbacks=[early_stop, reduce_lr])\n"
   ]
  },
  {
   "cell_type": "code",
   "execution_count": 32,
   "id": "56b7d1a1-2707-4823-b345-a7e726aa72f6",
   "metadata": {},
   "outputs": [
    {
     "name": "stdout",
     "output_type": "stream",
     "text": [
      "16/16 [==============================] - 1s 66ms/step - loss: 0.0292 - categorical_accuracy: 1.0000\n"
     ]
    }
   ],
   "source": [
    "train_loss,train_acc = model.evaluate(train_ds)"
   ]
  },
  {
   "cell_type": "code",
   "execution_count": 33,
   "id": "e7dd8aaa-8710-4f87-ae37-b3f316463651",
   "metadata": {},
   "outputs": [
    {
     "name": "stdout",
     "output_type": "stream",
     "text": [
      "4/4 [==============================] - 1s 63ms/step - loss: 0.0336 - categorical_accuracy: 1.0000\n"
     ]
    }
   ],
   "source": [
    "val_loss,val__acc = model.evaluate(val_ds)"
   ]
  },
  {
   "cell_type": "code",
   "execution_count": 35,
   "id": "4899fa81-574d-43e5-b46e-ecb8687826b4",
   "metadata": {},
   "outputs": [],
   "source": [
    "model.save(\"trained_model_hops.keras\")"
   ]
  },
  {
   "cell_type": "code",
   "execution_count": 34,
   "id": "0c2cc547-7a26-4f8d-af7c-bc7fa3d9f8bc",
   "metadata": {},
   "outputs": [
    {
     "data": {
      "image/png": "[encoded data removed]",
      "text/plain": [
       "<Figure size 640x480 with 1 Axes>"
      ]
     },
     "metadata": {},
     "output_type": "display_data"
    }
   ],
   "source": [
    "import matplotlib.pyplot as plt\n",
    "import pandas as pd\n",
    "import seaborn as sns\n",
    "\n",
    "epochs=[i for i in range(1,11)]\n",
    "plt.plot(epochs,history.history['categorical_accuracy'],color='orange',label='Training Accuracy')\n",
    "plt.plot(epochs,history.history['val_categorical_accuracy'],color='blue',label='Validation Accuracy')\n",
    "plt.xlabel('No. of Epochs')\n",
    "plt.ylabel('Accuracy')\n",
    "plt.title('Visualization of training, and validation accuracy')\n",
    "plt.legend()\n",
    "plt.show()\n"
   ]
  },
  {
   "cell_type": "code",
   "execution_count": null,
   "id": "59429ac9-b32c-421b-8ede-f51d0f948246",
   "metadata": {},
   "outputs": [],
   "source": []
  }
 ],
 "metadata": {
  "kernelspec": {
   "display_name": "Python 3 (ipykernel)",
   "language": "python",
   "name": "python3"
  },
  "language_info": {
   "codemirror_mode": {
    "name": "ipython",
    "version": 3
   },
   "file_extension": ".py",
   "mimetype": "text/x-python",
   "name": "python",
   "nbconvert_exporter": "python",
   "pygments_lexer": "ipython3",
   "version": "3.10.12"
  }
 },
 "nbformat": 4,
 "nbformat_minor": 5
}
