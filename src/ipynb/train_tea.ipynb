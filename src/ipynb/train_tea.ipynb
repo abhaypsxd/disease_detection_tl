{
 "cells": [
  {
   "cell_type": "code",
   "execution_count": 2,
   "id": "959f334b-97fb-485f-a783-c0b7b9b7e487",
   "metadata": {},
   "outputs": [],
   "source": [
    "import tensorflow as tf"
   ]
  },
  {
   "cell_type": "code",
   "execution_count": 4,
   "id": "5558b149-7786-4656-b5d3-1e3576f6d393",
   "metadata": {},
   "outputs": [
    {
     "name": "stdout",
     "output_type": "stream",
     "text": [
      "Found 711 files belonging to 8 classes.\n"
     ]
    }
   ],
   "source": [
    "train=r\"/home/teaching/Atmega_MIC/DP Students/Abhay/cropwise_data/tea\"\n",
    "training_set = tf.keras.utils.image_dataset_from_directory(\n",
    "    train,\n",
    "    labels=\"inferred\",\n",
    "    label_mode=\"categorical\",\n",
    "    class_names=None,\n",
    "    color_mode=\"rgb\",\n",
    "    batch_size=16,\n",
    "    image_size=(224, 224),\n",
    "    shuffle=True,\n",
    "    seed=None,\n",
    "    validation_split=None,\n",
    "    subset=None,\n",
    "    interpolation=\"bilinear\",\n",
    "    follow_links=False,\n",
    "    crop_to_aspect_ratio=False,\n",
    ")"
   ]
  },
  {
   "cell_type": "code",
   "execution_count": 5,
   "id": "a1cbc513-6b6a-43ad-a8b7-f3d650e5c1d8",
   "metadata": {},
   "outputs": [
    {
     "data": {
      "text/plain": [
       "['tea_algal_leaf',\n",
       " 'tea_anthracnose',\n",
       " 'tea_bird_eye_spot',\n",
       " 'tea_brown_blight',\n",
       " 'tea_gray_light',\n",
       " 'tea_healthy',\n",
       " 'tea_red_leaf_spot',\n",
       " 'tea_white_spot']"
      ]
     },
     "execution_count": 5,
     "metadata": {},
     "output_type": "execute_result"
    }
   ],
   "source": [
    "classes = training_set.class_names\n",
    "classes"
   ]
  },
  {
   "cell_type": "code",
   "execution_count": 6,
   "id": "4ed92234-522a-4f96-80d5-d855e1228b50",
   "metadata": {},
   "outputs": [
    {
     "name": "stdout",
     "output_type": "stream",
     "text": [
      "45\n",
      "36\n",
      "9\n"
     ]
    }
   ],
   "source": [
    "total_batches = tf.data.experimental.cardinality(training_set).numpy()\n",
    "train_size = int(0.8 * total_batches)\n",
    "val_size = total_batches - train_size\n",
    "train_dataset = training_set.take(train_size)\n",
    "val_dataset = training_set.skip(train_size)\n",
    "print(len(training_set))\n",
    "print(len(train_dataset))\n",
    "print(len(val_dataset))"
   ]
  },
  {
   "cell_type": "code",
   "execution_count": 8,
   "id": "c8d8553f-6560-4509-a097-990fd17e67bb",
   "metadata": {},
   "outputs": [],
   "source": [
    "from tensorflow.keras.applications import MobileNetV2\n",
    "from tensorflow.keras.models import Sequential\n",
    "from tensorflow.keras.layers import Dense, GlobalAveragePooling2D\n",
    "from tensorflow.keras.optimizers import Adam\n",
    "from tensorflow.keras import callbacks\n",
    "\n",
    "base_model = MobileNetV2(input_shape=(224, 224, 3), include_top=False, weights='imagenet')\n",
    "base_model.trainable = False  # Freeze base\n",
    "\n",
    "model = Sequential([\n",
    "    base_model,\n",
    "    GlobalAveragePooling2D(),\n",
    "    Dense(128, activation='relu'),\n",
    "    Dense(8, activation='softmax')  # 6 classes\n",
    "])\n",
    "\n",
    "model.compile(optimizer=Adam(learning_rate=0.001),\n",
    "              loss='categorical_crossentropy',\n",
    "              metrics=['categorical_accuracy'])\n"
   ]
  },
  {
   "cell_type": "code",
   "execution_count": 9,
   "id": "fcbed899-528c-407e-af5d-834a86302d16",
   "metadata": {},
   "outputs": [],
   "source": [
    "from tensorflow.keras.layers import Rescaling, RandomFlip, RandomRotation\n",
    "from tensorflow.keras import Sequential\n",
    "\n",
    "preprocessing = Sequential([\n",
    "    Rescaling(1./255),\n",
    "    RandomFlip(\"horizontal\"),\n",
    "    RandomRotation(0.1)\n",
    "])\n",
    "\n",
    "train_ds = train_dataset.map(lambda x, y: (preprocessing(x), y))\n",
    "val_ds = val_dataset.map(lambda x, y: (x / 255.0, y))\n"
   ]
  },
  {
   "cell_type": "code",
   "execution_count": 10,
   "id": "ba3ec86d-863f-44f8-acbc-4da3a664ddf4",
   "metadata": {},
   "outputs": [],
   "source": [
    "early_stop = callbacks.EarlyStopping(patience=3, restore_best_weights=True)\n",
    "reduce_lr = callbacks.ReduceLROnPlateau(factor=0.4, patience=3, min_lr=1e-6)"
   ]
  },
  {
   "cell_type": "code",
   "execution_count": 11,
   "id": "a1f1d93d-6de3-4f00-8b5c-c4e3b23dce8b",
   "metadata": {},
   "outputs": [
    {
     "name": "stdout",
     "output_type": "stream",
     "text": [
      "Epoch 1/10\n",
      "36/36 [==============================] - 8s 182ms/step - loss: 1.2792 - categorical_accuracy: 0.5330 - val_loss: 0.6814 - val_categorical_accuracy: 0.7556 - lr: 0.0010\n",
      "Epoch 2/10\n",
      "36/36 [==============================] - 6s 164ms/step - loss: 0.5661 - categorical_accuracy: 0.8090 - val_loss: 0.6103 - val_categorical_accuracy: 0.7407 - lr: 0.0010\n",
      "Epoch 3/10\n",
      "36/36 [==============================] - 6s 163ms/step - loss: 0.4165 - categorical_accuracy: 0.8628 - val_loss: 0.3961 - val_categorical_accuracy: 0.8963 - lr: 0.0010\n",
      "Epoch 4/10\n",
      "36/36 [==============================] - 6s 163ms/step - loss: 0.3162 - categorical_accuracy: 0.8976 - val_loss: 0.2841 - val_categorical_accuracy: 0.9259 - lr: 0.0010\n",
      "Epoch 5/10\n",
      "36/36 [==============================] - 6s 156ms/step - loss: 0.2461 - categorical_accuracy: 0.9253 - val_loss: 0.3925 - val_categorical_accuracy: 0.8889 - lr: 0.0010\n",
      "Epoch 6/10\n",
      "36/36 [==============================] - 6s 161ms/step - loss: 0.2519 - categorical_accuracy: 0.9132 - val_loss: 0.2384 - val_categorical_accuracy: 0.9630 - lr: 0.0010\n",
      "Epoch 7/10\n",
      "36/36 [==============================] - 6s 165ms/step - loss: 0.1450 - categorical_accuracy: 0.9688 - val_loss: 0.2298 - val_categorical_accuracy: 0.9333 - lr: 0.0010\n",
      "Epoch 8/10\n",
      "36/36 [==============================] - 6s 153ms/step - loss: 0.1534 - categorical_accuracy: 0.9549 - val_loss: 0.1875 - val_categorical_accuracy: 0.9407 - lr: 0.0010\n",
      "Epoch 9/10\n",
      "36/36 [==============================] - 6s 155ms/step - loss: 0.1005 - categorical_accuracy: 0.9792 - val_loss: 0.1438 - val_categorical_accuracy: 0.9704 - lr: 0.0010\n",
      "Epoch 10/10\n",
      "36/36 [==============================] - 6s 159ms/step - loss: 0.0850 - categorical_accuracy: 0.9844 - val_loss: 0.1238 - val_categorical_accuracy: 0.9852 - lr: 0.0010\n"
     ]
    }
   ],
   "source": [
    "history = model.fit(train_ds,\n",
    "                    validation_data=val_ds,\n",
    "                    epochs=10,\n",
    "                    callbacks=[early_stop, reduce_lr])"
   ]
  },
  {
   "cell_type": "code",
   "execution_count": 12,
   "id": "974419cd-1784-429c-8f66-cea8edf9e8f9",
   "metadata": {},
   "outputs": [
    {
     "name": "stdout",
     "output_type": "stream",
     "text": [
      "36/36 [==============================] - 4s 91ms/step - loss: 0.0610 - categorical_accuracy: 0.9948\n"
     ]
    }
   ],
   "source": [
    "train_loss,train_acc = model.evaluate(train_ds)"
   ]
  },
  {
   "cell_type": "code",
   "execution_count": 13,
   "id": "51a99636-4626-4bb8-8b47-5717971cda60",
   "metadata": {},
   "outputs": [
    {
     "name": "stdout",
     "output_type": "stream",
     "text": [
      "9/9 [==============================] - 2s 66ms/step - loss: 0.1288 - categorical_accuracy: 0.9926\n"
     ]
    }
   ],
   "source": [
    "val_loss,val__acc = model.evaluate(val_ds)"
   ]
  },
  {
   "cell_type": "code",
   "execution_count": 14,
   "id": "a930766d-01eb-4efb-800d-7aa5030f87bf",
   "metadata": {},
   "outputs": [],
   "source": [
    "model.save(\"trained_models/trained_model_tea.keras\")"
   ]
  },
  {
   "cell_type": "code",
   "execution_count": 15,
   "id": "abc74a11-ef96-4069-8faa-c05935546459",
   "metadata": {},
   "outputs": [
    {
     "data": {
      "image/png": "[encoded data removed]",
      "text/plain": [
       "<Figure size 640x480 with 1 Axes>"
      ]
     },
     "metadata": {},
     "output_type": "display_data"
    }
   ],
   "source": [
    "import matplotlib.pyplot as plt\n",
    "import pandas as pd\n",
    "import seaborn as sns\n",
    "\n",
    "epochs=[i for i in range(1,11)]\n",
    "plt.plot(epochs,history.history['categorical_accuracy'],color='orange',label='Training Accuracy')\n",
    "plt.plot(epochs,history.history['val_categorical_accuracy'],color='blue',label='Validation Accuracy')\n",
    "plt.xlabel('No. of Epochs')\n",
    "plt.ylabel('Accuracy')\n",
    "plt.title('Visualization of training, and validation accuracy')\n",
    "plt.legend()\n",
    "plt.show()\n"
   ]
  },
  {
   "cell_type": "code",
   "execution_count": null,
   "id": "a26516e4-97a6-48d1-a549-23fdaabeca27",
   "metadata": {},
   "outputs": [],
   "source": []
  }
 ],
 "metadata": {
  "kernelspec": {
   "display_name": "Python 3 (ipykernel)",
   "language": "python",
   "name": "python3"
  },
  "language_info": {
   "codemirror_mode": {
    "name": "ipython",
    "version": 3
   },
   "file_extension": ".py",
   "mimetype": "text/x-python",
   "name": "python",
   "nbconvert_exporter": "python",
   "pygments_lexer": "ipython3",
   "version": "3.10.12"
  }
 },
 "nbformat": 4,
 "nbformat_minor": 5
}
