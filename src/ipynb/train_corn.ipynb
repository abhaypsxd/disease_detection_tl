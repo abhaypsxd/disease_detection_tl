{
 "cells": [
  {
   "cell_type": "code",
   "execution_count": 2,
   "id": "6c0e18ef-cb87-4c36-b549-c89c2a55aa5b",
   "metadata": {},
   "outputs": [],
   "source": [
    "import tensorflow as tf"
   ]
  },
  {
   "cell_type": "code",
   "execution_count": 11,
   "id": "5905cc65-7aed-47fe-8797-232ed0a179d3",
   "metadata": {},
   "outputs": [
    {
     "name": "stdout",
     "output_type": "stream",
     "text": [
      "Found 34917 files belonging to 6 classes.\n"
     ]
    }
   ],
   "source": [
    "train=r\"/home/teaching/Atmega_MIC/DP Students/Abhay/cropwise_data/corn\"\n",
    "training_set = tf.keras.utils.image_dataset_from_directory(\n",
    "    train,\n",
    "    labels=\"inferred\",\n",
    "    label_mode=\"categorical\",\n",
    "    class_names=None,\n",
    "    color_mode=\"rgb\",\n",
    "    batch_size=32,\n",
    "    image_size=(224, 224),\n",
    "    shuffle=True,\n",
    "    seed=None,\n",
    "    validation_split=None,\n",
    "    subset=None,\n",
    "    interpolation=\"bilinear\",\n",
    "    follow_links=False,\n",
    "    crop_to_aspect_ratio=False,\n",
    ")"
   ]
  },
  {
   "cell_type": "code",
   "execution_count": 12,
   "id": "6c90a200-3225-4c52-a9b1-4ec06bb01b7e",
   "metadata": {},
   "outputs": [
    {
     "data": {
      "text/plain": [
       "['corn_blight',\n",
       " 'corn_common_rust',\n",
       " 'corn_diseased',\n",
       " 'corn_gray_leaf_spot',\n",
       " 'corn_healthy',\n",
       " 'corn_northern_leaf_blight']"
      ]
     },
     "execution_count": 12,
     "metadata": {},
     "output_type": "execute_result"
    }
   ],
   "source": [
    "classes = training_set.class_names\n",
    "classes"
   ]
  },
  {
   "cell_type": "code",
   "execution_count": 13,
   "id": "f7c5176c-be8c-4dcb-8aad-d0faf3fc769a",
   "metadata": {},
   "outputs": [
    {
     "name": "stdout",
     "output_type": "stream",
     "text": [
      "1092\n",
      "873\n",
      "219\n"
     ]
    }
   ],
   "source": [
    "total_batches = tf.data.experimental.cardinality(training_set).numpy()\n",
    "train_size = int(0.8 * total_batches)\n",
    "val_size = total_batches - train_size\n",
    "\n",
    "train_dataset = training_set.take(train_size)\n",
    "val_dataset = training_set.skip(train_size)\n",
    "print(len(training_set))\n",
    "print(len(train_dataset))\n",
    "print(len(val_dataset))"
   ]
  },
  {
   "cell_type": "code",
   "execution_count": 15,
   "id": "f9bf0582-27f8-4783-9328-2e263cbea723",
   "metadata": {},
   "outputs": [],
   "source": [
    "from tensorflow.keras.applications import MobileNetV2\n",
    "from tensorflow.keras.models import Sequential\n",
    "from tensorflow.keras.layers import Dense, GlobalAveragePooling2D\n",
    "from tensorflow.keras.optimizers import Adam\n",
    "from tensorflow.keras import callbacks\n",
    "\n",
    "base_model = MobileNetV2(input_shape=(224, 224, 3), include_top=False, weights='imagenet')\n",
    "base_model.trainable = False  # Freeze base\n",
    "\n",
    "model = Sequential([\n",
    "    base_model,\n",
    "    GlobalAveragePooling2D(),\n",
    "    Dense(128, activation='relu'),\n",
    "    Dense(6, activation='softmax')  # 6 classes\n",
    "])\n",
    "\n",
    "model.compile(optimizer=Adam(learning_rate=0.0001),\n",
    "              loss='categorical_crossentropy',\n",
    "              metrics=['categorical_accuracy'])\n"
   ]
  },
  {
   "cell_type": "code",
   "execution_count": 16,
   "id": "e015be7f-c646-47da-9fc7-c327d3774e68",
   "metadata": {},
   "outputs": [],
   "source": [
    "from tensorflow.keras.layers import Rescaling, RandomFlip, RandomRotation\n",
    "from tensorflow.keras import Sequential\n",
    "\n",
    "preprocessing = Sequential([\n",
    "    Rescaling(1./255),\n",
    "    RandomFlip(\"horizontal\"),\n",
    "    RandomRotation(0.1)\n",
    "])\n",
    "\n",
    "train_ds = train_dataset.map(lambda x, y: (preprocessing(x), y))\n",
    "val_ds = val_dataset.map(lambda x, y: (x / 255.0, y))\n"
   ]
  },
  {
   "cell_type": "code",
   "execution_count": 17,
   "id": "fe742bb2-241c-4c33-8232-7e08fb395db2",
   "metadata": {},
   "outputs": [],
   "source": [
    "early_stop = callbacks.EarlyStopping(patience=5, restore_best_weights=True)\n",
    "reduce_lr = callbacks.ReduceLROnPlateau(factor=0.2, patience=3, min_lr=1e-6)"
   ]
  },
  {
   "cell_type": "code",
   "execution_count": 18,
   "id": "da835f37-a328-4205-8cbc-d24621577576",
   "metadata": {},
   "outputs": [
    {
     "name": "stdout",
     "output_type": "stream",
     "text": [
      "Epoch 1/10\n",
      "590/873 [===================>..........] - ETA: 49s - loss: 0.4100 - categorical_accuracy: 0.8659"
     ]
    },
    {
     "name": "stderr",
     "output_type": "stream",
     "text": [
      "Invalid SOS parameters for sequential JPEG\n"
     ]
    },
    {
     "name": "stdout",
     "output_type": "stream",
     "text": [
      "810/873 [==========================>...] - ETA: 11s - loss: 0.3681 - categorical_accuracy: 0.8801"
     ]
    },
    {
     "name": "stderr",
     "output_type": "stream",
     "text": [
      "Invalid SOS parameters for sequential JPEG\n"
     ]
    },
    {
     "name": "stdout",
     "output_type": "stream",
     "text": [
      "873/873 [==============================] - ETA: 0s - loss: 0.3593 - categorical_accuracy: 0.8830"
     ]
    },
    {
     "name": "stderr",
     "output_type": "stream",
     "text": [
      "Invalid SOS parameters for sequential JPEG\n",
      "Invalid SOS parameters for sequential JPEG\n"
     ]
    },
    {
     "name": "stdout",
     "output_type": "stream",
     "text": [
      "873/873 [==============================] - 498s 569ms/step - loss: 0.3593 - categorical_accuracy: 0.8830 - val_loss: 0.2533 - val_categorical_accuracy: 0.9182 - lr: 1.0000e-04\n",
      "Epoch 2/10\n",
      "589/873 [===================>..........] - ETA: 1:13 - loss: 0.2153 - categorical_accuracy: 0.9293"
     ]
    },
    {
     "name": "stderr",
     "output_type": "stream",
     "text": [
      "Invalid SOS parameters for sequential JPEG\n"
     ]
    },
    {
     "name": "stdout",
     "output_type": "stream",
     "text": [
      "809/873 [==========================>...] - ETA: 16s - loss: 0.2119 - categorical_accuracy: 0.9306"
     ]
    },
    {
     "name": "stderr",
     "output_type": "stream",
     "text": [
      "Invalid SOS parameters for sequential JPEG\n"
     ]
    },
    {
     "name": "stdout",
     "output_type": "stream",
     "text": [
      "873/873 [==============================] - ETA: 0s - loss: 0.2126 - categorical_accuracy: 0.9303"
     ]
    },
    {
     "name": "stderr",
     "output_type": "stream",
     "text": [
      "Invalid SOS parameters for sequential JPEG\n",
      "Invalid SOS parameters for sequential JPEG\n"
     ]
    },
    {
     "name": "stdout",
     "output_type": "stream",
     "text": [
      "873/873 [==============================] - 327s 374ms/step - loss: 0.2126 - categorical_accuracy: 0.9303 - val_loss: 0.2208 - val_categorical_accuracy: 0.9297 - lr: 1.0000e-04\n",
      "Epoch 3/10\n",
      "589/873 [===================>..........] - ETA: 1:15 - loss: 0.1812 - categorical_accuracy: 0.9397"
     ]
    },
    {
     "name": "stderr",
     "output_type": "stream",
     "text": [
      "Invalid SOS parameters for sequential JPEG\n"
     ]
    },
    {
     "name": "stdout",
     "output_type": "stream",
     "text": [
      "809/873 [==========================>...] - ETA: 16s - loss: 0.1802 - categorical_accuracy: 0.9408"
     ]
    },
    {
     "name": "stderr",
     "output_type": "stream",
     "text": [
      "Invalid SOS parameters for sequential JPEG\n"
     ]
    },
    {
     "name": "stdout",
     "output_type": "stream",
     "text": [
      "873/873 [==============================] - ETA: 0s - loss: 0.1803 - categorical_accuracy: 0.9409"
     ]
    },
    {
     "name": "stderr",
     "output_type": "stream",
     "text": [
      "Invalid SOS parameters for sequential JPEG\n",
      "Invalid SOS parameters for sequential JPEG\n"
     ]
    },
    {
     "name": "stdout",
     "output_type": "stream",
     "text": [
      "873/873 [==============================] - 333s 381ms/step - loss: 0.1803 - categorical_accuracy: 0.9409 - val_loss: 0.2044 - val_categorical_accuracy: 0.9343 - lr: 1.0000e-04\n",
      "Epoch 4/10\n",
      "589/873 [===================>..........] - ETA: 1:14 - loss: 0.1604 - categorical_accuracy: 0.9481"
     ]
    },
    {
     "name": "stderr",
     "output_type": "stream",
     "text": [
      "Invalid SOS parameters for sequential JPEG\n"
     ]
    },
    {
     "name": "stdout",
     "output_type": "stream",
     "text": [
      "809/873 [==========================>...] - ETA: 16s - loss: 0.1593 - categorical_accuracy: 0.9490"
     ]
    },
    {
     "name": "stderr",
     "output_type": "stream",
     "text": [
      "Invalid SOS parameters for sequential JPEG\n"
     ]
    },
    {
     "name": "stdout",
     "output_type": "stream",
     "text": [
      "873/873 [==============================] - ETA: 0s - loss: 0.1595 - categorical_accuracy: 0.9490"
     ]
    },
    {
     "name": "stderr",
     "output_type": "stream",
     "text": [
      "Invalid SOS parameters for sequential JPEG\n",
      "Invalid SOS parameters for sequential JPEG\n"
     ]
    },
    {
     "name": "stdout",
     "output_type": "stream",
     "text": [
      "873/873 [==============================] - 330s 377ms/step - loss: 0.1595 - categorical_accuracy: 0.9490 - val_loss: 0.1954 - val_categorical_accuracy: 0.9377 - lr: 1.0000e-04\n",
      "Epoch 5/10\n",
      "590/873 [===================>..........] - ETA: 1:03 - loss: 0.1435 - categorical_accuracy: 0.9536"
     ]
    },
    {
     "name": "stderr",
     "output_type": "stream",
     "text": [
      "Invalid SOS parameters for sequential JPEG\n"
     ]
    },
    {
     "name": "stdout",
     "output_type": "stream",
     "text": [
      "810/873 [==========================>...] - ETA: 13s - loss: 0.1435 - categorical_accuracy: 0.9541"
     ]
    },
    {
     "name": "stderr",
     "output_type": "stream",
     "text": [
      "Invalid SOS parameters for sequential JPEG\n"
     ]
    },
    {
     "name": "stdout",
     "output_type": "stream",
     "text": [
      "873/873 [==============================] - ETA: 0s - loss: 0.1440 - categorical_accuracy: 0.9539"
     ]
    },
    {
     "name": "stderr",
     "output_type": "stream",
     "text": [
      "Invalid SOS parameters for sequential JPEG\n",
      "Invalid SOS parameters for sequential JPEG\n"
     ]
    },
    {
     "name": "stdout",
     "output_type": "stream",
     "text": [
      "873/873 [==============================] - 255s 291ms/step - loss: 0.1440 - categorical_accuracy: 0.9539 - val_loss: 0.1914 - val_categorical_accuracy: 0.9423 - lr: 1.0000e-04\n",
      "Epoch 6/10\n",
      "590/873 [===================>..........] - ETA: 48s - loss: 0.1320 - categorical_accuracy: 0.9585"
     ]
    },
    {
     "name": "stderr",
     "output_type": "stream",
     "text": [
      "Invalid SOS parameters for sequential JPEG\n"
     ]
    },
    {
     "name": "stdout",
     "output_type": "stream",
     "text": [
      "809/873 [==========================>...] - ETA: 10s - loss: 0.1321 - categorical_accuracy: 0.9587"
     ]
    },
    {
     "name": "stderr",
     "output_type": "stream",
     "text": [
      "Invalid SOS parameters for sequential JPEG\n"
     ]
    },
    {
     "name": "stdout",
     "output_type": "stream",
     "text": [
      "873/873 [==============================] - ETA: 0s - loss: 0.1325 - categorical_accuracy: 0.9585"
     ]
    },
    {
     "name": "stderr",
     "output_type": "stream",
     "text": [
      "Invalid SOS parameters for sequential JPEG\n",
      "Invalid SOS parameters for sequential JPEG\n"
     ]
    },
    {
     "name": "stdout",
     "output_type": "stream",
     "text": [
      "873/873 [==============================] - 223s 255ms/step - loss: 0.1325 - categorical_accuracy: 0.9585 - val_loss: 0.1790 - val_categorical_accuracy: 0.9456 - lr: 1.0000e-04\n",
      "Epoch 7/10\n",
      "590/873 [===================>..........] - ETA: 48s - loss: 0.1239 - categorical_accuracy: 0.9612"
     ]
    },
    {
     "name": "stderr",
     "output_type": "stream",
     "text": [
      "Invalid SOS parameters for sequential JPEG\n"
     ]
    },
    {
     "name": "stdout",
     "output_type": "stream",
     "text": [
      "810/873 [==========================>...] - ETA: 10s - loss: 0.1234 - categorical_accuracy: 0.9615"
     ]
    },
    {
     "name": "stderr",
     "output_type": "stream",
     "text": [
      "Invalid SOS parameters for sequential JPEG\n"
     ]
    },
    {
     "name": "stdout",
     "output_type": "stream",
     "text": [
      "873/873 [==============================] - ETA: 0s - loss: 0.1239 - categorical_accuracy: 0.9613"
     ]
    },
    {
     "name": "stderr",
     "output_type": "stream",
     "text": [
      "Invalid SOS parameters for sequential JPEG\n",
      "Invalid SOS parameters for sequential JPEG\n"
     ]
    },
    {
     "name": "stdout",
     "output_type": "stream",
     "text": [
      "873/873 [==============================] - 221s 253ms/step - loss: 0.1239 - categorical_accuracy: 0.9613 - val_loss: 0.1717 - val_categorical_accuracy: 0.9474 - lr: 1.0000e-04\n",
      "Epoch 8/10\n",
      "590/873 [===================>..........] - ETA: 49s - loss: 0.1155 - categorical_accuracy: 0.9640"
     ]
    },
    {
     "name": "stderr",
     "output_type": "stream",
     "text": [
      "Invalid SOS parameters for sequential JPEG\n"
     ]
    },
    {
     "name": "stdout",
     "output_type": "stream",
     "text": [
      "810/873 [==========================>...] - ETA: 10s - loss: 0.1154 - categorical_accuracy: 0.9641"
     ]
    },
    {
     "name": "stderr",
     "output_type": "stream",
     "text": [
      "Invalid SOS parameters for sequential JPEG\n"
     ]
    },
    {
     "name": "stdout",
     "output_type": "stream",
     "text": [
      "873/873 [==============================] - ETA: 0s - loss: 0.1158 - categorical_accuracy: 0.9640"
     ]
    },
    {
     "name": "stderr",
     "output_type": "stream",
     "text": [
      "Invalid SOS parameters for sequential JPEG\n",
      "Invalid SOS parameters for sequential JPEG\n"
     ]
    },
    {
     "name": "stdout",
     "output_type": "stream",
     "text": [
      "873/873 [==============================] - 224s 256ms/step - loss: 0.1158 - categorical_accuracy: 0.9640 - val_loss: 0.1774 - val_categorical_accuracy: 0.9444 - lr: 1.0000e-04\n",
      "Epoch 9/10\n",
      "590/873 [===================>..........] - ETA: 48s - loss: 0.1085 - categorical_accuracy: 0.9656"
     ]
    },
    {
     "name": "stderr",
     "output_type": "stream",
     "text": [
      "Invalid SOS parameters for sequential JPEG\n"
     ]
    },
    {
     "name": "stdout",
     "output_type": "stream",
     "text": [
      "810/873 [==========================>...] - ETA: 10s - loss: 0.1086 - categorical_accuracy: 0.9660"
     ]
    },
    {
     "name": "stderr",
     "output_type": "stream",
     "text": [
      "Invalid SOS parameters for sequential JPEG\n"
     ]
    },
    {
     "name": "stdout",
     "output_type": "stream",
     "text": [
      "873/873 [==============================] - ETA: 0s - loss: 0.1085 - categorical_accuracy: 0.9658"
     ]
    },
    {
     "name": "stderr",
     "output_type": "stream",
     "text": [
      "Invalid SOS parameters for sequential JPEG\n",
      "Invalid SOS parameters for sequential JPEG\n"
     ]
    },
    {
     "name": "stdout",
     "output_type": "stream",
     "text": [
      "873/873 [==============================] - 226s 259ms/step - loss: 0.1085 - categorical_accuracy: 0.9658 - val_loss: 0.1650 - val_categorical_accuracy: 0.9500 - lr: 1.0000e-04\n",
      "Epoch 10/10\n",
      "591/873 [===================>..........] - ETA: 48s - loss: 0.1026 - categorical_accuracy: 0.9676"
     ]
    },
    {
     "name": "stderr",
     "output_type": "stream",
     "text": [
      "Invalid SOS parameters for sequential JPEG\n"
     ]
    },
    {
     "name": "stdout",
     "output_type": "stream",
     "text": [
      "811/873 [==========================>...] - ETA: 10s - loss: 0.1027 - categorical_accuracy: 0.9673"
     ]
    },
    {
     "name": "stderr",
     "output_type": "stream",
     "text": [
      "Invalid SOS parameters for sequential JPEG\n"
     ]
    },
    {
     "name": "stdout",
     "output_type": "stream",
     "text": [
      "873/873 [==============================] - ETA: 0s - loss: 0.1031 - categorical_accuracy: 0.9669"
     ]
    },
    {
     "name": "stderr",
     "output_type": "stream",
     "text": [
      "Invalid SOS parameters for sequential JPEG\n",
      "Invalid SOS parameters for sequential JPEG\n"
     ]
    },
    {
     "name": "stdout",
     "output_type": "stream",
     "text": [
      "873/873 [==============================] - 224s 256ms/step - loss: 0.1031 - categorical_accuracy: 0.9669 - val_loss: 0.1620 - val_categorical_accuracy: 0.9516 - lr: 1.0000e-04\n"
     ]
    }
   ],
   "source": [
    "from tensorflow.keras.callbacks import EarlyStopping\n",
    "\n",
    "early_stop = EarlyStopping(patience=3, restore_best_weights=True)\n",
    "\n",
    "history = model.fit(train_ds,\n",
    "                    validation_data=val_ds,\n",
    "                    epochs=10,\n",
    "                    callbacks=[early_stop, reduce_lr])\n"
   ]
  },
  {
   "cell_type": "code",
   "execution_count": 19,
   "id": "3fc4f627-2ac7-4f4a-b7ba-e7db4c3f90e4",
   "metadata": {},
   "outputs": [
    {
     "name": "stdout",
     "output_type": "stream",
     "text": [
      "590/873 [===================>..........] - ETA: 47s - loss: 0.0967 - categorical_accuracy: 0.9688"
     ]
    },
    {
     "name": "stderr",
     "output_type": "stream",
     "text": [
      "Invalid SOS parameters for sequential JPEG\n"
     ]
    },
    {
     "name": "stdout",
     "output_type": "stream",
     "text": [
      "810/873 [==========================>...] - ETA: 10s - loss: 0.0948 - categorical_accuracy: 0.9695"
     ]
    },
    {
     "name": "stderr",
     "output_type": "stream",
     "text": [
      "Invalid SOS parameters for sequential JPEG\n"
     ]
    },
    {
     "name": "stdout",
     "output_type": "stream",
     "text": [
      "873/873 [==============================] - 148s 169ms/step - loss: 0.0946 - categorical_accuracy: 0.9695\n"
     ]
    }
   ],
   "source": [
    "train_loss,train_acc = model.evaluate(train_ds)"
   ]
  },
  {
   "cell_type": "code",
   "execution_count": 20,
   "id": "e008bb80-3293-4c80-8bff-34cc8d274e8e",
   "metadata": {},
   "outputs": [],
   "source": [
    "model.save(\"trained_models/trained_model_corn.keras\")"
   ]
  },
  {
   "cell_type": "code",
   "execution_count": 21,
   "id": "6315eb25-b0db-45a2-9558-8be2d628b147",
   "metadata": {},
   "outputs": [
    {
     "data": {
      "text/plain": [
       "(0.09464677423238754, 0.9695374965667725)"
      ]
     },
     "execution_count": 21,
     "metadata": {},
     "output_type": "execute_result"
    }
   ],
   "source": [
    "train_loss,train_acc"
   ]
  },
  {
   "cell_type": "code",
   "execution_count": 22,
   "id": "f8a08af4-d6de-4e06-8b61-1ae1bf0ba2f9",
   "metadata": {},
   "outputs": [
    {
     "data": {
      "image/png": "[encoded data removed]",
      "text/plain": [
       "<Figure size 640x480 with 1 Axes>"
      ]
     },
     "metadata": {},
     "output_type": "display_data"
    }
   ],
   "source": [
    "import matplotlib.pyplot as plt\n",
    "import pandas as pd\n",
    "import seaborn as sns\n",
    "\n",
    "epochs=[i for i in range(1,11)]\n",
    "plt.plot(epochs,history.history['categorical_accuracy'],color='orange',label='Training Accuracy')\n",
    "plt.plot(epochs,history.history['val_categorical_accuracy'],color='blue',label='Validation Accuracy')\n",
    "plt.xlabel('No. of Epochs')\n",
    "plt.ylabel('Accuracy')\n",
    "plt.title('Visualization of training, and validation accuracy')\n",
    "plt.legend()\n",
    "plt.show()\n"
   ]
  },
  {
   "cell_type": "code",
   "execution_count": null,
   "id": "93aeb341-35c7-4d56-95c1-a45d43dd95a1",
   "metadata": {},
   "outputs": [],
   "source": []
  }
 ],
 "metadata": {
  "kernelspec": {
   "display_name": "Python 3 (ipykernel)",
   "language": "python",
   "name": "python3"
  },
  "language_info": {
   "codemirror_mode": {
    "name": "ipython",
    "version": 3
   },
   "file_extension": ".py",
   "mimetype": "text/x-python",
   "name": "python",
   "nbconvert_exporter": "python",
   "pygments_lexer": "ipython3",
   "version": "3.10.12"
  }
 },
 "nbformat": 4,
 "nbformat_minor": 5
}
