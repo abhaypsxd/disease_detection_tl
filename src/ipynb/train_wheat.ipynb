{
 "cells": [
  {
   "cell_type": "code",
   "execution_count": 2,
   "id": "aeb905d8-0f79-4be7-ba62-13d709960def",
   "metadata": {},
   "outputs": [],
   "source": [
    "import tensorflow as tf"
   ]
  },
  {
   "cell_type": "code",
   "execution_count": 6,
   "id": "d7c59eed-aa21-44de-89e6-195996f613bd",
   "metadata": {},
   "outputs": [
    {
     "name": "stdout",
     "output_type": "stream",
     "text": [
      "Found 14682 files belonging to 6 classes.\n"
     ]
    }
   ],
   "source": [
    "train=r\"/home/teaching/Atmega_MIC/DP Students/Abhay/cropwise_data/wheat\"\n",
    "training_set = tf.keras.utils.image_dataset_from_directory(\n",
    "    train,\n",
    "    labels=\"inferred\",\n",
    "    label_mode=\"categorical\",\n",
    "    class_names=None,\n",
    "    color_mode=\"rgb\",\n",
    "    batch_size=32,\n",
    "    image_size=(224, 224),\n",
    "    shuffle=True,\n",
    "    seed=None,\n",
    "    validation_split=None,\n",
    "    subset=None,\n",
    "    interpolation=\"bilinear\",\n",
    "    follow_links=False,\n",
    "    crop_to_aspect_ratio=False,\n",
    ")"
   ]
  },
  {
   "cell_type": "code",
   "execution_count": 7,
   "id": "3495e6d5-307a-4292-916a-94351de8150f",
   "metadata": {},
   "outputs": [
    {
     "data": {
      "text/plain": [
       "['wheat_brown_rust',\n",
       " 'wheat_diseased',\n",
       " 'wheat_healthy',\n",
       " 'wheat_septoria',\n",
       " 'wheat_stripe_rust',\n",
       " 'wheat_yellow_rust']"
      ]
     },
     "execution_count": 7,
     "metadata": {},
     "output_type": "execute_result"
    }
   ],
   "source": [
    "classes = training_set.class_names\n",
    "classes"
   ]
  },
  {
   "cell_type": "code",
   "execution_count": 8,
   "id": "e8e76f85-4cc3-4a12-8757-caa45e5e6553",
   "metadata": {},
   "outputs": [
    {
     "name": "stdout",
     "output_type": "stream",
     "text": [
      "459\n",
      "367\n",
      "92\n"
     ]
    }
   ],
   "source": [
    "total_batches = tf.data.experimental.cardinality(training_set).numpy()\n",
    "train_size = int(0.8 * total_batches)\n",
    "val_size = total_batches - train_size\n",
    "\n",
    "train_dataset = training_set.take(train_size)\n",
    "val_dataset = training_set.skip(train_size)\n",
    "print(len(training_set))\n",
    "print(len(train_dataset))\n",
    "print(len(val_dataset))"
   ]
  },
  {
   "cell_type": "code",
   "execution_count": 9,
   "id": "546b5554-46ea-41c0-ad3a-0ed7a9874dcf",
   "metadata": {},
   "outputs": [],
   "source": [
    "from tensorflow.keras.applications import MobileNetV2\n",
    "from tensorflow.keras.models import Sequential\n",
    "from tensorflow.keras.layers import Dense, GlobalAveragePooling2D\n",
    "from tensorflow.keras.optimizers import Adam\n",
    "from tensorflow.keras import callbacks\n",
    "\n",
    "base_model = MobileNetV2(input_shape=(224, 224, 3), include_top=False, weights='imagenet')\n",
    "base_model.trainable = False  # Freeze base\n",
    "\n",
    "model = Sequential([\n",
    "    base_model,\n",
    "    GlobalAveragePooling2D(),\n",
    "    Dense(128, activation='relu'),\n",
    "    Dense(6, activation='softmax')  # 6 classes\n",
    "])\n",
    "\n",
    "model.compile(optimizer=Adam(learning_rate=1e-3),\n",
    "              loss='categorical_crossentropy',\n",
    "              metrics=['categorical_accuracy'])\n"
   ]
  },
  {
   "cell_type": "code",
   "execution_count": 10,
   "id": "30555085-7c08-40ee-bf4d-ec1f0ccda598",
   "metadata": {},
   "outputs": [],
   "source": [
    "from tensorflow.keras.layers import Rescaling, RandomFlip, RandomRotation\n",
    "from tensorflow.keras import Sequential\n",
    "\n",
    "preprocessing = Sequential([\n",
    "    Rescaling(1./255),\n",
    "    RandomFlip(\"horizontal\"),\n",
    "    RandomRotation(0.1)\n",
    "])\n",
    "\n",
    "train_ds = train_dataset.map(lambda x, y: (preprocessing(x), y))\n",
    "val_ds = val_dataset.map(lambda x, y: (x / 255.0, y))\n"
   ]
  },
  {
   "cell_type": "code",
   "execution_count": 11,
   "id": "b784100a-81ac-4f16-b1b2-1148d25f7c2c",
   "metadata": {},
   "outputs": [],
   "source": [
    "early_stop = callbacks.EarlyStopping(patience=3, restore_best_weights=True)\n",
    "reduce_lr = callbacks.ReduceLROnPlateau(factor=0.2, patience=3, min_lr=1e-6)"
   ]
  },
  {
   "cell_type": "code",
   "execution_count": 12,
   "id": "a2ca602c-8bcf-4c39-abb4-942e851ca595",
   "metadata": {},
   "outputs": [
    {
     "name": "stdout",
     "output_type": "stream",
     "text": [
      "Epoch 1/15\n",
      "367/367 [==============================] - 102s 272ms/step - loss: 0.2652 - categorical_accuracy: 0.8851 - val_loss: 0.1939 - val_categorical_accuracy: 0.9050 - lr: 0.0010\n",
      "Epoch 2/15\n",
      "367/367 [==============================] - 112s 305ms/step - loss: 0.1728 - categorical_accuracy: 0.9229 - val_loss: 0.1677 - val_categorical_accuracy: 0.9316 - lr: 0.0010\n",
      "Epoch 3/15\n",
      "367/367 [==============================] - 97s 264ms/step - loss: 0.1380 - categorical_accuracy: 0.9406 - val_loss: 0.1321 - val_categorical_accuracy: 0.9503 - lr: 0.0010\n",
      "Epoch 4/15\n",
      "367/367 [==============================] - 98s 266ms/step - loss: 0.1122 - categorical_accuracy: 0.9548 - val_loss: 0.1230 - val_categorical_accuracy: 0.9530 - lr: 0.0010\n",
      "Epoch 5/15\n",
      "367/367 [==============================] - 99s 269ms/step - loss: 0.0941 - categorical_accuracy: 0.9612 - val_loss: 0.1352 - val_categorical_accuracy: 0.9452 - lr: 0.0010\n",
      "Epoch 6/15\n",
      "367/367 [==============================] - 100s 271ms/step - loss: 0.0745 - categorical_accuracy: 0.9705 - val_loss: 0.1008 - val_categorical_accuracy: 0.9643 - lr: 0.0010\n",
      "Epoch 7/15\n",
      "367/367 [==============================] - 99s 268ms/step - loss: 0.0626 - categorical_accuracy: 0.9763 - val_loss: 0.1056 - val_categorical_accuracy: 0.9578 - lr: 0.0010\n",
      "Epoch 8/15\n",
      "367/367 [==============================] - 107s 289ms/step - loss: 0.0494 - categorical_accuracy: 0.9814 - val_loss: 0.0966 - val_categorical_accuracy: 0.9653 - lr: 0.0010\n",
      "Epoch 9/15\n",
      "367/367 [==============================] - 133s 362ms/step - loss: 0.0402 - categorical_accuracy: 0.9863 - val_loss: 0.1017 - val_categorical_accuracy: 0.9626 - lr: 0.0010\n",
      "Epoch 10/15\n",
      "367/367 [==============================] - 130s 353ms/step - loss: 0.0357 - categorical_accuracy: 0.9876 - val_loss: 0.1281 - val_categorical_accuracy: 0.9554 - lr: 0.0010\n",
      "Epoch 11/15\n",
      "367/367 [==============================] - 131s 354ms/step - loss: 0.0479 - categorical_accuracy: 0.9837 - val_loss: 0.1278 - val_categorical_accuracy: 0.9558 - lr: 0.0010\n"
     ]
    }
   ],
   "source": [
    "from tensorflow.keras.callbacks import EarlyStopping\n",
    "\n",
    "history = model.fit(train_ds,\n",
    "                    validation_data=val_ds,\n",
    "                    epochs=15,\n",
    "                    callbacks=[early_stop, reduce_lr])\n"
   ]
  },
  {
   "cell_type": "code",
   "execution_count": 13,
   "id": "b3579067-cda5-484c-8052-83aaccbf7e65",
   "metadata": {},
   "outputs": [
    {
     "name": "stdout",
     "output_type": "stream",
     "text": [
      "367/367 [==============================] - 88s 238ms/step - loss: 0.0429 - categorical_accuracy: 0.9858\n"
     ]
    }
   ],
   "source": [
    "train_loss,train_acc = model.evaluate(train_ds)"
   ]
  },
  {
   "cell_type": "code",
   "execution_count": 14,
   "id": "657722ed-c775-4297-8ca1-8219ce8e2e04",
   "metadata": {},
   "outputs": [],
   "source": [
    "model.save(\"trained_models/trained_model_wheat.keras\")"
   ]
  },
  {
   "cell_type": "code",
   "execution_count": 15,
   "id": "08964f34-4cb6-4d1f-aec4-4ee9b6f1b59f",
   "metadata": {},
   "outputs": [
    {
     "data": {
      "image/png": "[encoded data removed]",
      "text/plain": [
       "<Figure size 640x480 with 1 Axes>"
      ]
     },
     "metadata": {},
     "output_type": "display_data"
    }
   ],
   "source": [
    "import matplotlib.pyplot as plt\n",
    "import pandas as pd\n",
    "import seaborn as sns\n",
    "\n",
    "epochs=[i for i in range(1,12)]\n",
    "plt.plot(epochs,history.history['categorical_accuracy'],color='orange',label='Training Accuracy')\n",
    "plt.plot(epochs,history.history['val_categorical_accuracy'],color='blue',label='Validation Accuracy')\n",
    "plt.xlabel('No. of Epochs')\n",
    "plt.ylabel('Accuracy')\n",
    "plt.title('Visualization of training, and validation accuracy')\n",
    "plt.legend()\n",
    "plt.show()\n"
   ]
  },
  {
   "cell_type": "code",
   "execution_count": null,
   "id": "1be9e6da-ce85-4e05-a03d-c3b627a46f2b",
   "metadata": {},
   "outputs": [],
   "source": []
  }
 ],
 "metadata": {
  "kernelspec": {
   "display_name": "Python 3 (ipykernel)",
   "language": "python",
   "name": "python3"
  },
  "language_info": {
   "codemirror_mode": {
    "name": "ipython",
    "version": 3
   },
   "file_extension": ".py",
   "mimetype": "text/x-python",
   "name": "python",
   "nbconvert_exporter": "python",
   "pygments_lexer": "ipython3",
   "version": "3.10.12"
  }
 },
 "nbformat": 4,
 "nbformat_minor": 5
}
